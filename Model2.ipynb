{
 "cells": [
  {
   "cell_type": "code",
   "execution_count": 1,
   "id": "98646a17",
   "metadata": {},
   "outputs": [],
   "source": [
    "import pandas as pd\n",
    "from surprise import Dataset\n",
    "from surprise import Reader\n",
    "from surprise import KNNWithMeans\n",
    "from surprise.model_selection import cross_validate\n",
    "from surprise.model_selection import train_test_split\n",
    "import numpy as np\n",
    "import pickle\n",
    "import random \n",
    "from surprise import accuracy\n",
    "from sklearn.metrics import accuracy_score\n",
    "from sklearn.metrics import precision_score\n",
    "from sklearn.metrics import confusion_matrix\n",
    "from sklearn.metrics import f1_score\n",
    "\n",
    "import matplotlib.pyplot as plt\n",
    "from sklearn.metrics import ConfusionMatrixDisplay"
   ]
  },
  {
   "cell_type": "code",
   "execution_count": 2,
   "id": "d73ea090",
   "metadata": {},
   "outputs": [],
   "source": [
    "from surprise import NMF, CoClustering, SVD"
   ]
  },
  {
   "cell_type": "code",
   "execution_count": 3,
   "id": "5dfba51d",
   "metadata": {},
   "outputs": [],
   "source": [
    "random.seed(10)"
   ]
  },
  {
   "cell_type": "code",
   "execution_count": 4,
   "id": "49d96c23",
   "metadata": {},
   "outputs": [],
   "source": [
    "ratings = pd.read_csv('ml-latest/ratings.csv')\n",
    "#print(ratings.head())\n",
    "movies = pd.read_csv(\"movies_FINAL.csv\")\n",
    "#print(movies.head())"
   ]
  },
  {
   "cell_type": "code",
   "execution_count": 5,
   "id": "41d0f558",
   "metadata": {},
   "outputs": [],
   "source": [
    "reader = Reader(rating_scale=(0.5, 5))\n",
    "data = Dataset.load_from_df(ratings[[\"userId\", \"movieId\", \"rating\"]], reader)"
   ]
  },
  {
   "cell_type": "code",
   "execution_count": 6,
   "id": "cb620736",
   "metadata": {},
   "outputs": [],
   "source": [
    "trainset, testset = train_test_split(data, test_size=.2)"
   ]
  },
  {
   "cell_type": "code",
   "execution_count": 7,
   "id": "ce772b83",
   "metadata": {},
   "outputs": [],
   "source": [
    "#algo = SVD()\n",
    "#algo.fit(trainset)\n",
    "#pickle.dump(algo, open(filename, 'wb'))"
   ]
  },
  {
   "cell_type": "code",
   "execution_count": 8,
   "id": "a7fcffb9",
   "metadata": {},
   "outputs": [],
   "source": [
    "filename = 'SVD_model.sav'\n",
    "algo = pickle.load(open(filename, 'rb'))"
   ]
  },
  {
   "cell_type": "code",
   "execution_count": 9,
   "id": "b6e87688",
   "metadata": {},
   "outputs": [
    {
     "name": "stdout",
     "output_type": "stream",
     "text": [
      "user: 1          item: 307        r_ui = 3.50   est = 3.98   {'was_impossible': False}\n"
     ]
    },
    {
     "data": {
      "text/plain": [
       "Prediction(uid=1, iid=307, r_ui=3.5, est=3.976031439838299, details={'was_impossible': False})"
      ]
     },
     "execution_count": 9,
     "metadata": {},
     "output_type": "execute_result"
    }
   ],
   "source": [
    "algo.predict(1, 307, r_ui =3.5,verbose=True)"
   ]
  },
  {
   "cell_type": "code",
   "execution_count": 10,
   "id": "2fa2dba0",
   "metadata": {},
   "outputs": [],
   "source": [
    "predictions = algo.test(testset)"
   ]
  },
  {
   "cell_type": "code",
   "execution_count": 11,
   "id": "5e63f67e",
   "metadata": {},
   "outputs": [
    {
     "data": {
      "text/plain": [
       "[Prediction(uid=208607, iid=58559, r_ui=4.0, est=3.723751321611188, details={'was_impossible': False}),\n",
       " Prediction(uid=275979, iid=1801, r_ui=4.0, est=3.584951442879967, details={'was_impossible': False}),\n",
       " Prediction(uid=207542, iid=24, r_ui=3.0, est=2.9955158103309905, details={'was_impossible': False}),\n",
       " Prediction(uid=8450, iid=6333, r_ui=3.5, est=3.3800376927978886, details={'was_impossible': False}),\n",
       " Prediction(uid=188965, iid=1252, r_ui=5.0, est=4.419545654644302, details={'was_impossible': False}),\n",
       " Prediction(uid=132839, iid=1304, r_ui=4.0, est=4.180793237696428, details={'was_impossible': False}),\n",
       " Prediction(uid=274313, iid=2505, r_ui=2.0, est=2.159991823805331, details={'was_impossible': False}),\n",
       " Prediction(uid=27663, iid=74458, r_ui=3.5, est=4.535622008592862, details={'was_impossible': False}),\n",
       " Prediction(uid=276739, iid=2467, r_ui=4.0, est=3.869499791251113, details={'was_impossible': False}),\n",
       " Prediction(uid=277005, iid=3254, r_ui=4.0, est=3.2445599758553936, details={'was_impossible': False})]"
      ]
     },
     "execution_count": 11,
     "metadata": {},
     "output_type": "execute_result"
    }
   ],
   "source": [
    "predictions[0:10]"
   ]
  },
  {
   "cell_type": "code",
   "execution_count": 28,
   "id": "18cd8876",
   "metadata": {},
   "outputs": [
    {
     "name": "stdout",
     "output_type": "stream",
     "text": [
      "\\begin{tabular}{lrrrrrrrrrr}\n",
      "\\toprule\n",
      "{} &     0 &     1 &    2 &     3 &     4 &     5 &     6 &     7 &     8 &     9 \\\\\n",
      "\\midrule\n",
      "rating     &  4.00 &  4.00 &  3.0 &  3.50 &  5.00 &  4.00 &  2.00 &  3.50 &  4.00 &  4.00 \\\\\n",
      "prediction &  3.72 &  3.58 &  3.0 &  3.38 &  4.42 &  4.18 &  2.16 &  4.54 &  3.87 &  3.24 \\\\\n",
      "\\bottomrule\n",
      "\\end{tabular}\n",
      "\n"
     ]
    },
    {
     "name": "stderr",
     "output_type": "stream",
     "text": [
      "C:\\Users\\Muffin\\AppData\\Local\\Temp\\ipykernel_4988\\1667153626.py:2: FutureWarning: In future versions `DataFrame.to_latex` is expected to utilise the base implementation of `Styler.to_latex` for formatting and rendering. The arguments signature may therefore change. It is recommended instead to use `DataFrame.style.to_latex` which also contains additional functionality.\n",
      "  print(ff.T.to_latex())\n"
     ]
    }
   ],
   "source": [
    "ff = pd.DataFrame(data={'rating': [4.0,4.0,3.0,3.5,5.0,4.0,2.0,3.5,4.0,4.0], 'prediction': [3.72,3.58,3.0,3.38,4.42,4.18,2.16,4.54,3.87,3.24]})\n",
    "print(ff.T.to_latex())"
   ]
  },
  {
   "cell_type": "code",
   "execution_count": 12,
   "id": "84445200",
   "metadata": {},
   "outputs": [],
   "source": [
    "def isLiked(pred):\n",
    "    return (pred.r_ui>=3.5)*1"
   ]
  },
  {
   "cell_type": "code",
   "execution_count": 13,
   "id": "120d0f5b",
   "metadata": {},
   "outputs": [],
   "source": [
    "def isRecommended(pred):\n",
    "    return (pred.est>=3.5)*1"
   ]
  },
  {
   "cell_type": "code",
   "execution_count": 14,
   "id": "3aae33e9",
   "metadata": {},
   "outputs": [],
   "source": [
    "recommend = list(map(isRecommended, predictions))"
   ]
  },
  {
   "cell_type": "code",
   "execution_count": 15,
   "id": "1d1347b8",
   "metadata": {},
   "outputs": [],
   "source": [
    "liked = list(map(isLiked, predictions))"
   ]
  },
  {
   "cell_type": "code",
   "execution_count": 16,
   "id": "17c5d1cd",
   "metadata": {},
   "outputs": [],
   "source": [
    "cm =confusion_matrix(liked, recommend)"
   ]
  },
  {
   "cell_type": "code",
   "execution_count": 29,
   "id": "8b8e549c",
   "metadata": {},
   "outputs": [
    {
     "data": {
      "image/png": "[encoded data removed]",
      "text/plain": [
       "<Figure size 432x288 with 2 Axes>"
      ]
     },
     "metadata": {
      "needs_background": "light"
     },
     "output_type": "display_data"
    }
   ],
   "source": [
    "disp = ConfusionMatrixDisplay(confusion_matrix=cm)\n",
    "disp.plot(values_format='')\n",
    "plt.show()"
   ]
  },
  {
   "cell_type": "code",
   "execution_count": 18,
   "id": "19ba70cc",
   "metadata": {},
   "outputs": [
    {
     "data": {
      "text/plain": [
       "0.7891472572143746"
      ]
     },
     "execution_count": 18,
     "metadata": {},
     "output_type": "execute_result"
    }
   ],
   "source": [
    "accuracy_score(liked, recommend)"
   ]
  },
  {
   "cell_type": "code",
   "execution_count": 19,
   "id": "44c7ad48",
   "metadata": {},
   "outputs": [
    {
     "data": {
      "text/plain": [
       "0.8566261584497017"
      ]
     },
     "execution_count": 19,
     "metadata": {},
     "output_type": "execute_result"
    }
   ],
   "source": [
    "precision_score(liked, recommend, average='binary')"
   ]
  },
  {
   "cell_type": "code",
   "execution_count": 20,
   "id": "2e9299e3",
   "metadata": {},
   "outputs": [
    {
     "data": {
      "text/plain": [
       "0.8237375097364869"
      ]
     },
     "execution_count": 20,
     "metadata": {},
     "output_type": "execute_result"
    }
   ],
   "source": [
    "f1_score(liked, recommend, average='binary')"
   ]
  },
  {
   "cell_type": "code",
   "execution_count": 21,
   "id": "e2cf2351",
   "metadata": {},
   "outputs": [
    {
     "name": "stdout",
     "output_type": "stream",
     "text": [
      "RMSE: 0.7032\n"
     ]
    },
    {
     "data": {
      "text/plain": [
       "0.7031659441075198"
      ]
     },
     "execution_count": 21,
     "metadata": {},
     "output_type": "execute_result"
    }
   ],
   "source": [
    "#rmse for rating prediction NOT recommendation\n",
    "accuracy.rmse(predictions)"
   ]
  },
  {
   "cell_type": "code",
   "execution_count": 22,
   "id": "dc707a00",
   "metadata": {},
   "outputs": [],
   "source": [
    "#algo2 = NMF()\n",
    "#algo2.fit(trainset)\n",
    "#pickle.dump(algo, open(filename2, 'wb'))"
   ]
  },
  {
   "cell_type": "code",
   "execution_count": 23,
   "id": "9c3ff2f9",
   "metadata": {},
   "outputs": [],
   "source": [
    "filename2 = 'NMF_model.sav'\n",
    "algo2 = pickle.load(open(filename2, 'rb'))"
   ]
  },
  {
   "cell_type": "code",
   "execution_count": 24,
   "id": "a585b667",
   "metadata": {},
   "outputs": [],
   "source": [
    "predictions2 = algo2.test(testset)"
   ]
  },
  {
   "cell_type": "code",
   "execution_count": 25,
   "id": "d308764c",
   "metadata": {},
   "outputs": [],
   "source": [
    "recommend2 = list(map(isRecommended, predictions2))"
   ]
  },
  {
   "cell_type": "code",
   "execution_count": 26,
   "id": "63705c40",
   "metadata": {},
   "outputs": [],
   "source": [
    "cm2 =confusion_matrix(liked, recommend2)"
   ]
  },
  {
   "cell_type": "code",
   "execution_count": 27,
   "id": "325e70aa",
   "metadata": {},
   "outputs": [
    {
     "data": {
      "image/png": "[encoded data removed]",
      "text/plain": [
       "<Figure size 432x288 with 2 Axes>"
      ]
     },
     "metadata": {
      "needs_background": "light"
     },
     "output_type": "display_data"
    }
   ],
   "source": [
    "disp2 = ConfusionMatrixDisplay(confusion_matrix=cm2)\n",
    "disp2.plot()\n",
    "plt.show()"
   ]
  },
  {
   "cell_type": "code",
   "execution_count": 28,
   "id": "579e2bda",
   "metadata": {},
   "outputs": [
    {
     "data": {
      "text/plain": [
       "0.7287504308023742"
      ]
     },
     "execution_count": 28,
     "metadata": {},
     "output_type": "execute_result"
    }
   ],
   "source": [
    "accuracy_score(liked, recommend2)"
   ]
  },
  {
   "cell_type": "code",
   "execution_count": 29,
   "id": "f1fdad97",
   "metadata": {},
   "outputs": [
    {
     "data": {
      "text/plain": [
       "0.8855591292906465"
      ]
     },
     "execution_count": 29,
     "metadata": {},
     "output_type": "execute_result"
    }
   ],
   "source": [
    "precision_score(liked, recommend2, average='binary')"
   ]
  },
  {
   "cell_type": "code",
   "execution_count": 30,
   "id": "0506a9fc",
   "metadata": {
    "scrolled": true
   },
   "outputs": [
    {
     "name": "stdout",
     "output_type": "stream",
     "text": [
      "user: 1          item: 307        r_ui = 3.50   est = 3.98   {'was_impossible': False}\n"
     ]
    },
    {
     "data": {
      "text/plain": [
       "Prediction(uid=1, iid=307, r_ui=3.5, est=3.976031439838299, details={'was_impossible': False})"
      ]
     },
     "execution_count": 30,
     "metadata": {},
     "output_type": "execute_result"
    }
   ],
   "source": [
    "algo2.predict(1, 307, r_ui =3.5,verbose=True)"
   ]
  },
  {
   "cell_type": "code",
   "execution_count": 31,
   "id": "2aa9a080",
   "metadata": {},
   "outputs": [
    {
     "name": "stdout",
     "output_type": "stream",
     "text": [
      "RMSE: 0.7029\n"
     ]
    },
    {
     "data": {
      "text/plain": [
       "0.7029202617741303"
      ]
     },
     "execution_count": 31,
     "metadata": {},
     "output_type": "execute_result"
    }
   ],
   "source": [
    "predictions2 = algo2.test(testset)\n",
    "accuracy.rmse(predictions2)"
   ]
  },
  {
   "cell_type": "code",
   "execution_count": 32,
   "id": "5316da8f",
   "metadata": {},
   "outputs": [],
   "source": [
    "#d = data.build_full_trainset()"
   ]
  },
  {
   "cell_type": "code",
   "execution_count": 33,
   "id": "b4388af8",
   "metadata": {},
   "outputs": [],
   "source": [
    "#algo4 = CoClustering()\n",
    "#algo4.fit(d)\n",
    "#pickle.dump(algo4, open(filename3, 'wb'))"
   ]
  },
  {
   "cell_type": "code",
   "execution_count": 36,
   "id": "5b36416e",
   "metadata": {},
   "outputs": [
    {
     "ename": "MemoryError",
     "evalue": "",
     "output_type": "error",
     "traceback": [
      "\u001b[1;31m---------------------------------------------------------------------------\u001b[0m",
      "\u001b[1;31mMemoryError\u001b[0m                               Traceback (most recent call last)",
      "Input \u001b[1;32mIn [36]\u001b[0m, in \u001b[0;36m<cell line: 2>\u001b[1;34m()\u001b[0m\n\u001b[0;32m      1\u001b[0m filename3 \u001b[38;5;241m=\u001b[39m \u001b[38;5;124m'\u001b[39m\u001b[38;5;124mCluster_model.sav\u001b[39m\u001b[38;5;124m'\u001b[39m\n\u001b[1;32m----> 2\u001b[0m algo3 \u001b[38;5;241m=\u001b[39m \u001b[43mpickle\u001b[49m\u001b[38;5;241;43m.\u001b[39;49m\u001b[43mload\u001b[49m\u001b[43m(\u001b[49m\u001b[38;5;28;43mopen\u001b[39;49m\u001b[43m(\u001b[49m\u001b[43mfilename3\u001b[49m\u001b[43m,\u001b[49m\u001b[43m \u001b[49m\u001b[38;5;124;43m'\u001b[39;49m\u001b[38;5;124;43mrb\u001b[39;49m\u001b[38;5;124;43m'\u001b[39;49m\u001b[43m)\u001b[49m\u001b[43m)\u001b[49m\n",
      "\u001b[1;31mMemoryError\u001b[0m: "
     ]
    }
   ],
   "source": [
    "filename3 = 'Cluster_model.sav'\n",
    "algo3 = pickle.load(open(filename3, 'rb'))"
   ]
  },
  {
   "cell_type": "code",
   "execution_count": null,
   "id": "64d80d12",
   "metadata": {},
   "outputs": [],
   "source": [
    "predictions3 = algo3.test(testset)"
   ]
  },
  {
   "cell_type": "code",
   "execution_count": null,
   "id": "58178c9a",
   "metadata": {},
   "outputs": [],
   "source": [
    "recommend3 = list(map(isRecommended, predictions3))"
   ]
  },
  {
   "cell_type": "code",
   "execution_count": null,
   "id": "90f8c721",
   "metadata": {},
   "outputs": [],
   "source": [
    "cm3 =confusion_matrix(liked, recommend3)"
   ]
  },
  {
   "cell_type": "code",
   "execution_count": null,
   "id": "54ca34a4",
   "metadata": {},
   "outputs": [],
   "source": [
    "disp3 = ConfusionMatrixDisplay(confusion_matrix=cm3)\n",
    "disp3.plot()\n",
    "plt.show()"
   ]
  },
  {
   "cell_type": "code",
   "execution_count": null,
   "id": "7dd0d3fa",
   "metadata": {},
   "outputs": [],
   "source": [
    "accuracy_score(liked, recommend3)"
   ]
  },
  {
   "cell_type": "code",
   "execution_count": null,
   "id": "78aba389",
   "metadata": {},
   "outputs": [],
   "source": [
    "precision_score(liked, recommend3, average='binary')"
   ]
  },
  {
   "cell_type": "code",
   "execution_count": null,
   "id": "946d023b",
   "metadata": {},
   "outputs": [],
   "source": [
    "predictions3 = algo3.test(testset)\n",
    "accuracy.rmse(predictions3)"
   ]
  },
  {
   "cell_type": "markdown",
   "id": "4ecf9532",
   "metadata": {},
   "source": [
    "SVD - RMSE: 0.7950 - 910 MB\n",
    "NMF - RMSE: 0.8777 - 910 MB\n",
    "CoClustering - RMSE: 0.8759 - 824 MB"
   ]
  },
  {
   "cell_type": "markdown",
   "id": "dfc18247",
   "metadata": {},
   "source": [
    "Modele są bardzo podobne jednak SVD jest odrobinę lepszy od pozostałych oraz szybszy, więc na nim się skupimy"
   ]
  },
  {
   "cell_type": "markdown",
   "id": "dd4aeb2c",
   "metadata": {},
   "source": [
    "Najważniejszą metryką w naszym modelu jest przede wszystkim f1 i precision, ponieważ chcemy zminimalizować ilość False Positives. Zarekomendowanie złego filmu jest dla nas gorsze od pominięcia dobrego. "
   ]
  },
  {
   "cell_type": "markdown",
   "id": "eee8607d",
   "metadata": {},
   "source": [
    "Poniżej przetestowane inne odcięcia rekomendacji. Oczywiście im mniejsze odcięcie tym lepsze metryki, ale nie chcemy uznawać filmu ocenianego na 2.5 na warty polecenia. Dla wartości 3 metryki nie są znacząco lepsze, więc zostajemy na 3.5 ."
   ]
  },
  {
   "cell_type": "markdown",
   "id": "a6061124",
   "metadata": {},
   "source": [
    "Same hiperparametry modelów zostawiamy automatycznie ponieważ ich trenowanie zajmuje naprawdę dużo czasu"
   ]
  },
  {
   "cell_type": "code",
   "execution_count": null,
   "id": "b21355f8",
   "metadata": {},
   "outputs": [],
   "source": [
    "def isLiked(pred):\n",
    "    return (pred.r_ui>=4)*1"
   ]
  },
  {
   "cell_type": "code",
   "execution_count": null,
   "id": "b32154ba",
   "metadata": {},
   "outputs": [],
   "source": [
    "def isRecommended(pred):\n",
    "    return (pred.est>=4)*1"
   ]
  },
  {
   "cell_type": "code",
   "execution_count": null,
   "id": "cd93f1ef",
   "metadata": {},
   "outputs": [],
   "source": [
    "recommend = list(map(isRecommended, predictions))"
   ]
  },
  {
   "cell_type": "code",
   "execution_count": null,
   "id": "08fcc0a5",
   "metadata": {},
   "outputs": [],
   "source": [
    "liked = list(map(isLiked, predictions))"
   ]
  },
  {
   "cell_type": "code",
   "execution_count": null,
   "id": "f55fc5e1",
   "metadata": {},
   "outputs": [],
   "source": [
    "cm =confusion_matrix(liked, recommend)"
   ]
  },
  {
   "cell_type": "code",
   "execution_count": null,
   "id": "02880753",
   "metadata": {},
   "outputs": [],
   "source": [
    "disp = ConfusionMatrixDisplay(confusion_matrix=cm)\n",
    "disp.plot()\n",
    "plt.show()"
   ]
  },
  {
   "cell_type": "code",
   "execution_count": null,
   "id": "e04fe8ca",
   "metadata": {},
   "outputs": [],
   "source": [
    "accuracy_score(liked, recommend)"
   ]
  },
  {
   "cell_type": "code",
   "execution_count": null,
   "id": "8b003aa9",
   "metadata": {},
   "outputs": [],
   "source": [
    "precision_score(liked, recommend, average='binary')"
   ]
  },
  {
   "cell_type": "code",
   "execution_count": null,
   "id": "3a49ec7a",
   "metadata": {},
   "outputs": [],
   "source": [
    "f1_score(liked, recommend, average='binary')"
   ]
  },
  {
   "cell_type": "code",
   "execution_count": null,
   "id": "19413749",
   "metadata": {},
   "outputs": [],
   "source": [
    "def isLiked(pred):\n",
    "    return (pred.r_ui>=4.5)*1"
   ]
  },
  {
   "cell_type": "code",
   "execution_count": null,
   "id": "f55bfbb3",
   "metadata": {},
   "outputs": [],
   "source": [
    "def isRecommended(pred):\n",
    "    return (pred.est>=4.5)*1"
   ]
  },
  {
   "cell_type": "code",
   "execution_count": null,
   "id": "b3061e2d",
   "metadata": {},
   "outputs": [],
   "source": [
    "recommend = list(map(isRecommended, predictions))"
   ]
  },
  {
   "cell_type": "code",
   "execution_count": null,
   "id": "fe194316",
   "metadata": {},
   "outputs": [],
   "source": [
    "liked = list(map(isLiked, predictions))"
   ]
  },
  {
   "cell_type": "code",
   "execution_count": null,
   "id": "3826d13f",
   "metadata": {},
   "outputs": [],
   "source": [
    "cm =confusion_matrix(liked, recommend)"
   ]
  },
  {
   "cell_type": "code",
   "execution_count": null,
   "id": "0a4837f7",
   "metadata": {},
   "outputs": [],
   "source": [
    "disp = ConfusionMatrixDisplay(confusion_matrix=cm)\n",
    "disp.plot()\n",
    "plt.show()"
   ]
  },
  {
   "cell_type": "code",
   "execution_count": null,
   "id": "6e9fc560",
   "metadata": {},
   "outputs": [],
   "source": [
    "accuracy_score(liked, recommend)"
   ]
  },
  {
   "cell_type": "code",
   "execution_count": null,
   "id": "beba0b67",
   "metadata": {},
   "outputs": [],
   "source": [
    "precision_score(liked, recommend, average='binary')"
   ]
  },
  {
   "cell_type": "code",
   "execution_count": null,
   "id": "1e72e421",
   "metadata": {},
   "outputs": [],
   "source": [
    "f1_score(liked, recommend, average='binary')"
   ]
  },
  {
   "cell_type": "code",
   "execution_count": null,
   "id": "5abf6b32",
   "metadata": {},
   "outputs": [],
   "source": [
    "def isLiked(pred):\n",
    "    return (pred.r_ui>=3)*1"
   ]
  },
  {
   "cell_type": "code",
   "execution_count": null,
   "id": "a955b6dc",
   "metadata": {},
   "outputs": [],
   "source": [
    "def isRecommended(pred):\n",
    "    return (pred.est>=3)*1"
   ]
  },
  {
   "cell_type": "code",
   "execution_count": null,
   "id": "b71a362c",
   "metadata": {},
   "outputs": [],
   "source": [
    "recommend = list(map(isRecommended, predictions))"
   ]
  },
  {
   "cell_type": "code",
   "execution_count": null,
   "id": "39fb808b",
   "metadata": {},
   "outputs": [],
   "source": [
    "liked = list(map(isLiked, predictions))"
   ]
  },
  {
   "cell_type": "code",
   "execution_count": null,
   "id": "6c5e3565",
   "metadata": {},
   "outputs": [],
   "source": [
    "cm =confusion_matrix(liked, recommend)"
   ]
  },
  {
   "cell_type": "code",
   "execution_count": null,
   "id": "c69c33b8",
   "metadata": {},
   "outputs": [],
   "source": [
    "disp = ConfusionMatrixDisplay(confusion_matrix=cm)\n",
    "disp.plot()\n",
    "plt.show()"
   ]
  },
  {
   "cell_type": "code",
   "execution_count": null,
   "id": "6e464b99",
   "metadata": {},
   "outputs": [],
   "source": [
    "accuracy_score(liked, recommend)"
   ]
  },
  {
   "cell_type": "code",
   "execution_count": null,
   "id": "84f42f25",
   "metadata": {
    "scrolled": true
   },
   "outputs": [],
   "source": [
    "precision_score(liked, recommend, average='binary')"
   ]
  },
  {
   "cell_type": "code",
   "execution_count": null,
   "id": "7cc72eb0",
   "metadata": {},
   "outputs": [],
   "source": [
    "f1_score(liked, recommend, average='binary')"
   ]
  },
  {
   "cell_type": "code",
   "execution_count": null,
   "id": "17318167",
   "metadata": {},
   "outputs": [],
   "source": [
    "def isLiked(pred):\n",
    "    return (pred.r_ui>=2.5)*1"
   ]
  },
  {
   "cell_type": "code",
   "execution_count": null,
   "id": "0bc2848a",
   "metadata": {},
   "outputs": [],
   "source": [
    "def isRecommended(pred):\n",
    "    return (pred.est>=2.5)*1"
   ]
  },
  {
   "cell_type": "code",
   "execution_count": null,
   "id": "bfa181c9",
   "metadata": {},
   "outputs": [],
   "source": [
    "recommend = list(map(isRecommended, predictions))"
   ]
  },
  {
   "cell_type": "code",
   "execution_count": null,
   "id": "84d1d3b2",
   "metadata": {},
   "outputs": [],
   "source": [
    "liked = list(map(isLiked, predictions))"
   ]
  },
  {
   "cell_type": "code",
   "execution_count": null,
   "id": "57424bcd",
   "metadata": {},
   "outputs": [],
   "source": [
    "cm =confusion_matrix(liked, recommend)"
   ]
  },
  {
   "cell_type": "code",
   "execution_count": null,
   "id": "cfed27fa",
   "metadata": {},
   "outputs": [],
   "source": [
    "disp = ConfusionMatrixDisplay(confusion_matrix=cm)\n",
    "disp.plot()\n",
    "plt.show()"
   ]
  },
  {
   "cell_type": "code",
   "execution_count": null,
   "id": "2e8f0b17",
   "metadata": {},
   "outputs": [],
   "source": [
    "accuracy_score(liked, recommend)"
   ]
  },
  {
   "cell_type": "code",
   "execution_count": null,
   "id": "2357bd34",
   "metadata": {
    "scrolled": true
   },
   "outputs": [],
   "source": [
    "precision_score(liked, recommend, average='binary')"
   ]
  },
  {
   "cell_type": "code",
   "execution_count": null,
   "id": "eaf499d3",
   "metadata": {},
   "outputs": [],
   "source": [
    "f1_score(liked, recommend, average='binary')"
   ]
  },
  {
   "cell_type": "code",
   "execution_count": null,
   "id": "882aa2b8",
   "metadata": {},
   "outputs": [],
   "source": []
  }
 ],
 "metadata": {
  "kernelspec": {
   "display_name": "Python 3 (ipykernel)",
   "language": "python",
   "name": "python3"
  },
  "language_info": {
   "codemirror_mode": {
    "name": "ipython",
    "version": 3
   },
   "file_extension": ".py",
   "mimetype": "text/x-python",
   "name": "python",
   "nbconvert_exporter": "python",
   "pygments_lexer": "ipython3",
   "version": "3.8.8"
  }
 },
 "nbformat": 4,
 "nbformat_minor": 5
}
