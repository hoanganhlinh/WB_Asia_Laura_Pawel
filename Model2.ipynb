{
 "cells": [
  {
   "cell_type": "code",
   "execution_count": 55,
   "id": "98646a17",
   "metadata": {},
   "outputs": [],
   "source": [
    "import pandas as pd\n",
    "from surprise import Dataset\n",
    "from surprise import Reader\n",
    "from surprise import KNNWithMeans\n",
    "from surprise.model_selection import cross_validate\n",
    "from surprise.model_selection import train_test_split\n",
    "import numpy as np\n",
    "import pickle\n",
    "import random \n",
    "from surprise import accuracy\n",
    "from sklearn.metrics import accuracy_score\n",
    "from sklearn.metrics import precision_score\n",
    "from sklearn.metrics import confusion_matrix\n",
    "from sklearn.metrics import f1_score\n",
    "\n",
    "import matplotlib.pyplot as plt\n",
    "from sklearn.metrics import ConfusionMatrixDisplay"
   ]
  },
  {
   "cell_type": "code",
   "execution_count": 2,
   "id": "d73ea090",
   "metadata": {},
   "outputs": [],
   "source": [
    "from surprise import NMF, CoClustering, SVD"
   ]
  },
  {
   "cell_type": "code",
   "execution_count": 3,
   "id": "5dfba51d",
   "metadata": {},
   "outputs": [],
   "source": [
    "random.seed(10)"
   ]
  },
  {
   "cell_type": "code",
   "execution_count": 4,
   "id": "49d96c23",
   "metadata": {},
   "outputs": [],
   "source": [
    "ratings = pd.read_csv('ml-latest/ratings.csv')\n",
    "#print(ratings.head())\n",
    "movies = pd.read_csv(\"movies_FINAL.csv\")\n",
    "#print(movies.head())"
   ]
  },
  {
   "cell_type": "code",
   "execution_count": 5,
   "id": "41d0f558",
   "metadata": {},
   "outputs": [],
   "source": [
    "reader = Reader(rating_scale=(0.5, 5))\n",
    "data = Dataset.load_from_df(ratings[[\"userId\", \"movieId\", \"rating\"]], reader)"
   ]
  },
  {
   "cell_type": "code",
   "execution_count": 6,
   "id": "cb620736",
   "metadata": {},
   "outputs": [],
   "source": [
    "trainset, testset = train_test_split(data, test_size=.2)"
   ]
  },
  {
   "cell_type": "code",
   "execution_count": 7,
   "id": "ce772b83",
   "metadata": {},
   "outputs": [],
   "source": [
    "#algo = SVD()\n",
    "#algo.fit(trainset)\n",
    "#pickle.dump(algo, open(filename, 'wb'))"
   ]
  },
  {
   "cell_type": "code",
   "execution_count": 8,
   "id": "a7fcffb9",
   "metadata": {},
   "outputs": [],
   "source": [
    "filename = 'SVD_model.sav'\n",
    "algo = pickle.load(open(filename, 'rb'))"
   ]
  },
  {
   "cell_type": "code",
   "execution_count": 9,
   "id": "b6e87688",
   "metadata": {},
   "outputs": [
    {
     "name": "stdout",
     "output_type": "stream",
     "text": [
      "user: 1          item: 307        r_ui = 3.50   est = 3.98   {'was_impossible': False}\n"
     ]
    },
    {
     "data": {
      "text/plain": [
       "Prediction(uid=1, iid=307, r_ui=3.5, est=3.976031439838299, details={'was_impossible': False})"
      ]
     },
     "execution_count": 9,
     "metadata": {},
     "output_type": "execute_result"
    }
   ],
   "source": [
    "algo.predict(1, 307, r_ui =3.5,verbose=True)"
   ]
  },
  {
   "cell_type": "code",
   "execution_count": 10,
   "id": "2fa2dba0",
   "metadata": {},
   "outputs": [],
   "source": [
    "predictions = algo.test(testset)"
   ]
  },
  {
   "cell_type": "code",
   "execution_count": 11,
   "id": "5e63f67e",
   "metadata": {},
   "outputs": [
    {
     "data": {
      "text/plain": [
       "[Prediction(uid=79482, iid=736, r_ui=1.0, est=2.1714089626230724, details={'was_impossible': False}),\n",
       " Prediction(uid=264996, iid=1527, r_ui=5.0, est=4.566515707733246, details={'was_impossible': False}),\n",
       " Prediction(uid=115403, iid=4027, r_ui=4.5, est=4.020351913099127, details={'was_impossible': False}),\n",
       " Prediction(uid=43770, iid=2905, r_ui=5.0, est=4.841380552402743, details={'was_impossible': False}),\n",
       " Prediction(uid=204977, iid=8644, r_ui=2.5, est=2.6096298290086306, details={'was_impossible': False}),\n",
       " Prediction(uid=52461, iid=1947, r_ui=5.0, est=3.406693694701712, details={'was_impossible': False}),\n",
       " Prediction(uid=40850, iid=34, r_ui=2.0, est=2.237357419925726, details={'was_impossible': False}),\n",
       " Prediction(uid=182978, iid=923, r_ui=4.0, est=3.8857572441059096, details={'was_impossible': False}),\n",
       " Prediction(uid=96427, iid=3114, r_ui=4.0, est=3.9582598467804697, details={'was_impossible': False}),\n",
       " Prediction(uid=105594, iid=3255, r_ui=4.0, est=4.216590641742894, details={'was_impossible': False})]"
      ]
     },
     "execution_count": 11,
     "metadata": {},
     "output_type": "execute_result"
    }
   ],
   "source": [
    "predictions[0:10]"
   ]
  },
  {
   "cell_type": "code",
   "execution_count": 101,
   "id": "84445200",
   "metadata": {},
   "outputs": [],
   "source": [
    "def isLiked(pred):\n",
    "    return (pred.r_ui>3.5)*1"
   ]
  },
  {
   "cell_type": "code",
   "execution_count": 102,
   "id": "120d0f5b",
   "metadata": {},
   "outputs": [],
   "source": [
    "def isRecommended(pred):\n",
    "    return (pred.est>3.5)*1"
   ]
  },
  {
   "cell_type": "code",
   "execution_count": 103,
   "id": "3aae33e9",
   "metadata": {},
   "outputs": [],
   "source": [
    "recommend = list(map(isRecommended, predictions))"
   ]
  },
  {
   "cell_type": "code",
   "execution_count": 104,
   "id": "1d1347b8",
   "metadata": {},
   "outputs": [],
   "source": [
    "liked = list(map(isLiked, predictions))"
   ]
  },
  {
   "cell_type": "code",
   "execution_count": 105,
   "id": "17c5d1cd",
   "metadata": {},
   "outputs": [],
   "source": [
    "cm =confusion_matrix(liked, recommend)"
   ]
  },
  {
   "cell_type": "code",
   "execution_count": 106,
   "id": "8b8e549c",
   "metadata": {},
   "outputs": [
    {
     "data": {
      "image/png": "[encoded data removed]",
      "text/plain": [
       "<Figure size 432x288 with 2 Axes>"
      ]
     },
     "metadata": {
      "needs_background": "light"
     },
     "output_type": "display_data"
    }
   ],
   "source": [
    "disp = ConfusionMatrixDisplay(confusion_matrix=cm)\n",
    "disp.plot()\n",
    "plt.show()"
   ]
  },
  {
   "cell_type": "code",
   "execution_count": 107,
   "id": "19ba70cc",
   "metadata": {},
   "outputs": [
    {
     "data": {
      "text/plain": [
       "0.7786163123172637"
      ]
     },
     "execution_count": 107,
     "metadata": {},
     "output_type": "execute_result"
    }
   ],
   "source": [
    "accuracy_score(liked, recommend)"
   ]
  },
  {
   "cell_type": "code",
   "execution_count": 108,
   "id": "44c7ad48",
   "metadata": {},
   "outputs": [
    {
     "data": {
      "text/plain": [
       "0.7408712408041683"
      ]
     },
     "execution_count": 108,
     "metadata": {},
     "output_type": "execute_result"
    }
   ],
   "source": [
    "precision_score(liked, recommend, average='binary')"
   ]
  },
  {
   "cell_type": "code",
   "execution_count": 110,
   "id": "d059925e",
   "metadata": {},
   "outputs": [
    {
     "data": {
      "text/plain": [
       "0.7936970447468321"
      ]
     },
     "execution_count": 110,
     "metadata": {},
     "output_type": "execute_result"
    }
   ],
   "source": [
    "f1_score(liked, recommend, average='binary')"
   ]
  },
  {
   "cell_type": "code",
   "execution_count": 20,
   "id": "e2cf2351",
   "metadata": {},
   "outputs": [
    {
     "name": "stdout",
     "output_type": "stream",
     "text": [
      "RMSE: 0.7030\n"
     ]
    },
    {
     "data": {
      "text/plain": [
       "0.7029522380735811"
      ]
     },
     "execution_count": 20,
     "metadata": {},
     "output_type": "execute_result"
    }
   ],
   "source": [
    "#rmse for rating prediction NOT recommendation\n",
    "accuracy.rmse(predictions)"
   ]
  },
  {
   "cell_type": "code",
   "execution_count": 21,
   "id": "dc707a00",
   "metadata": {},
   "outputs": [],
   "source": [
    "#algo2 = NMF()\n",
    "#algo2.fit(trainset)\n",
    "#pickle.dump(algo, open(filename2, 'wb'))"
   ]
  },
  {
   "cell_type": "code",
   "execution_count": 22,
   "id": "9c3ff2f9",
   "metadata": {},
   "outputs": [],
   "source": [
    "filename2 = 'NMF_model.sav'\n",
    "algo2 = pickle.load(open(filename2, 'rb'))"
   ]
  },
  {
   "cell_type": "code",
   "execution_count": 23,
   "id": "a585b667",
   "metadata": {},
   "outputs": [],
   "source": [
    "predictions2 = algo2.test(testset)"
   ]
  },
  {
   "cell_type": "code",
   "execution_count": 24,
   "id": "d308764c",
   "metadata": {},
   "outputs": [],
   "source": [
    "recommend2 = list(map(isRecommended, predictions2))"
   ]
  },
  {
   "cell_type": "code",
   "execution_count": 25,
   "id": "63705c40",
   "metadata": {},
   "outputs": [],
   "source": [
    "cm2 =confusion_matrix(liked, recommend2)"
   ]
  },
  {
   "cell_type": "code",
   "execution_count": 26,
   "id": "325e70aa",
   "metadata": {},
   "outputs": [
    {
     "data": {
      "image/png": "[encoded data removed]",
      "text/plain": [
       "<Figure size 432x288 with 2 Axes>"
      ]
     },
     "metadata": {
      "needs_background": "light"
     },
     "output_type": "display_data"
    }
   ],
   "source": [
    "disp2 = ConfusionMatrixDisplay(confusion_matrix=cm2)\n",
    "disp2.plot()\n",
    "plt.show()"
   ]
  },
  {
   "cell_type": "code",
   "execution_count": 27,
   "id": "579e2bda",
   "metadata": {},
   "outputs": [
    {
     "data": {
      "text/plain": [
       "0.7781911398747074"
      ]
     },
     "execution_count": 27,
     "metadata": {},
     "output_type": "execute_result"
    }
   ],
   "source": [
    "accuracy_score(liked, recommend2)"
   ]
  },
  {
   "cell_type": "code",
   "execution_count": 28,
   "id": "f1fdad97",
   "metadata": {},
   "outputs": [
    {
     "data": {
      "text/plain": [
       "0.7404934065280226"
      ]
     },
     "execution_count": 28,
     "metadata": {},
     "output_type": "execute_result"
    }
   ],
   "source": [
    "precision_score(liked, recommend2, average='binary')"
   ]
  },
  {
   "cell_type": "code",
   "execution_count": 29,
   "id": "0506a9fc",
   "metadata": {
    "scrolled": true
   },
   "outputs": [
    {
     "name": "stdout",
     "output_type": "stream",
     "text": [
      "user: 1          item: 307        r_ui = 3.50   est = 3.98   {'was_impossible': False}\n"
     ]
    },
    {
     "data": {
      "text/plain": [
       "Prediction(uid=1, iid=307, r_ui=3.5, est=3.976031439838299, details={'was_impossible': False})"
      ]
     },
     "execution_count": 29,
     "metadata": {},
     "output_type": "execute_result"
    }
   ],
   "source": [
    "algo2.predict(1, 307, r_ui =3.5,verbose=True)"
   ]
  },
  {
   "cell_type": "code",
   "execution_count": 30,
   "id": "2aa9a080",
   "metadata": {},
   "outputs": [
    {
     "name": "stdout",
     "output_type": "stream",
     "text": [
      "RMSE: 0.7030\n"
     ]
    },
    {
     "data": {
      "text/plain": [
       "0.7029522380735811"
      ]
     },
     "execution_count": 30,
     "metadata": {},
     "output_type": "execute_result"
    }
   ],
   "source": [
    "predictions2 = algo2.test(testset)\n",
    "accuracy.rmse(predictions2)"
   ]
  },
  {
   "cell_type": "code",
   "execution_count": null,
   "id": "5316da8f",
   "metadata": {},
   "outputs": [],
   "source": [
    "#d = data.build_full_trainset()"
   ]
  },
  {
   "cell_type": "code",
   "execution_count": null,
   "id": "b4388af8",
   "metadata": {},
   "outputs": [],
   "source": [
    "#algo4 = CoClustering()\n",
    "#algo4.fit(d)\n",
    "#pickle.dump(algo4, open(filename3, 'wb'))"
   ]
  },
  {
   "cell_type": "code",
   "execution_count": 11,
   "id": "5b36416e",
   "metadata": {},
   "outputs": [],
   "source": [
    "filename3 = 'Cluster_model.sav'\n",
    "algo3 = pickle.load(open(filename3, 'rb'))"
   ]
  },
  {
   "cell_type": "code",
   "execution_count": 12,
   "id": "64d80d12",
   "metadata": {},
   "outputs": [],
   "source": [
    "predictions3 = algo3.test(testset)"
   ]
  },
  {
   "cell_type": "code",
   "execution_count": 13,
   "id": "58178c9a",
   "metadata": {},
   "outputs": [],
   "source": [
    "recommend3 = list(map(isRecommended, predictions3))"
   ]
  },
  {
   "cell_type": "code",
   "execution_count": 15,
   "id": "90f8c721",
   "metadata": {},
   "outputs": [],
   "source": [
    "cm3 =confusion_matrix(liked, recommend3)"
   ]
  },
  {
   "cell_type": "code",
   "execution_count": 16,
   "id": "54ca34a4",
   "metadata": {},
   "outputs": [
    {
     "data": {
      "image/png": "[encoded data removed]",
      "text/plain": [
       "<Figure size 432x288 with 2 Axes>"
      ]
     },
     "metadata": {
      "needs_background": "light"
     },
     "output_type": "display_data"
    }
   ],
   "source": [
    "disp3 = ConfusionMatrixDisplay(confusion_matrix=cm3)\n",
    "disp3.plot()\n",
    "plt.show()"
   ]
  },
  {
   "cell_type": "code",
   "execution_count": 17,
   "id": "7dd0d3fa",
   "metadata": {},
   "outputs": [
    {
     "data": {
      "text/plain": [
       "0.7217896733180331"
      ]
     },
     "execution_count": 17,
     "metadata": {},
     "output_type": "execute_result"
    }
   ],
   "source": [
    "accuracy_score(liked, recommend3)"
   ]
  },
  {
   "cell_type": "code",
   "execution_count": 18,
   "id": "78aba389",
   "metadata": {},
   "outputs": [
    {
     "data": {
      "text/plain": [
       "0.7310525352758023"
      ]
     },
     "execution_count": 18,
     "metadata": {},
     "output_type": "execute_result"
    }
   ],
   "source": [
    "precision_score(liked, recommend3, average='binary')"
   ]
  },
  {
   "cell_type": "code",
   "execution_count": 20,
   "id": "946d023b",
   "metadata": {},
   "outputs": [
    {
     "name": "stdout",
     "output_type": "stream",
     "text": [
      "RMSE: 0.8765\n"
     ]
    },
    {
     "data": {
      "text/plain": [
       "0.87648006846097"
      ]
     },
     "execution_count": 20,
     "metadata": {},
     "output_type": "execute_result"
    }
   ],
   "source": [
    "predictions3 = algo3.test(testset)\n",
    "accuracy.rmse(predictions3)"
   ]
  },
  {
   "cell_type": "markdown",
   "id": "08068c4b",
   "metadata": {},
   "source": [
    "SVD - RMSE: 0.7950 - 910 MB\n",
    "NMF - RMSE: 0.8777 - 910 MB\n",
    "CoClustering - RMSE: 0.8759 - 824 MB"
   ]
  },
  {
   "cell_type": "markdown",
   "id": "4fa599b8",
   "metadata": {},
   "source": [
    "Modele są bardzo podobne jednak SVD jest odrobinę lepszy od pozostałych oraz szybszy, więc na nim się skupimy"
   ]
  },
  {
   "cell_type": "markdown",
   "id": "4b5b7834",
   "metadata": {},
   "source": [
    "Najważniejszą metryką w naszym modelu jest przede wszystkim f1 i precision, ponieważ chcemy zminimalizować ilość False Positives. Zarekomendowanie złego filmu jest dla nas gorsze od pominięcia dobrego. "
   ]
  },
  {
   "cell_type": "markdown",
   "id": "7b104aa7",
   "metadata": {},
   "source": [
    "Poniżej przetestowane inne odcięcia rekomendacji. Oczywiście im mniejsze odcięcie tym lepsze metryki, ale nie chcemy uznawać filmu ocenianego na 2.5 na warty polecenia. Dla wartości 3 metryki nie są znacząco lepsze, więc zostajemy na 3.5 ."
   ]
  },
  {
   "cell_type": "code",
   "execution_count": 56,
   "id": "bf72488b",
   "metadata": {},
   "outputs": [],
   "source": [
    "def isLiked(pred):\n",
    "    return (pred.r_ui>4)*1"
   ]
  },
  {
   "cell_type": "code",
   "execution_count": 57,
   "id": "a481dd60",
   "metadata": {},
   "outputs": [],
   "source": [
    "def isRecommended(pred):\n",
    "    return (pred.est>4)*1"
   ]
  },
  {
   "cell_type": "code",
   "execution_count": 58,
   "id": "5b3e87cd",
   "metadata": {},
   "outputs": [],
   "source": [
    "recommend = list(map(isRecommended, predictions))"
   ]
  },
  {
   "cell_type": "code",
   "execution_count": 59,
   "id": "3ddfbd6c",
   "metadata": {},
   "outputs": [],
   "source": [
    "liked = list(map(isLiked, predictions))"
   ]
  },
  {
   "cell_type": "code",
   "execution_count": 60,
   "id": "4cb97833",
   "metadata": {},
   "outputs": [],
   "source": [
    "cm =confusion_matrix(liked, recommend)"
   ]
  },
  {
   "cell_type": "code",
   "execution_count": 61,
   "id": "3b604e24",
   "metadata": {},
   "outputs": [
    {
     "data": {
      "image/png": "[encoded data removed]",
      "text/plain": [
       "<Figure size 432x288 with 2 Axes>"
      ]
     },
     "metadata": {
      "needs_background": "light"
     },
     "output_type": "display_data"
    }
   ],
   "source": [
    "disp = ConfusionMatrixDisplay(confusion_matrix=cm)\n",
    "disp.plot()\n",
    "plt.show()"
   ]
  },
  {
   "cell_type": "code",
   "execution_count": 62,
   "id": "b3b9c798",
   "metadata": {},
   "outputs": [
    {
     "data": {
      "text/plain": [
       "0.8073262616586878"
      ]
     },
     "execution_count": 62,
     "metadata": {},
     "output_type": "execute_result"
    }
   ],
   "source": [
    "accuracy_score(liked, recommend)"
   ]
  },
  {
   "cell_type": "code",
   "execution_count": 63,
   "id": "3c15265f",
   "metadata": {},
   "outputs": [
    {
     "data": {
      "text/plain": [
       "0.5669720557395109"
      ]
     },
     "execution_count": 63,
     "metadata": {},
     "output_type": "execute_result"
    }
   ],
   "source": [
    "precision_score(liked, recommend, average='binary')"
   ]
  },
  {
   "cell_type": "code",
   "execution_count": 64,
   "id": "8d9fe938",
   "metadata": {},
   "outputs": [
    {
     "data": {
      "text/plain": [
       "0.6345279802725375"
      ]
     },
     "execution_count": 64,
     "metadata": {},
     "output_type": "execute_result"
    }
   ],
   "source": [
    "f1_score(liked, recommend, average='binary')"
   ]
  },
  {
   "cell_type": "code",
   "execution_count": 65,
   "id": "d7c59c53",
   "metadata": {},
   "outputs": [],
   "source": [
    "def isLiked(pred):\n",
    "    return (pred.r_ui>4.5)*1"
   ]
  },
  {
   "cell_type": "code",
   "execution_count": 66,
   "id": "b4a5687e",
   "metadata": {},
   "outputs": [],
   "source": [
    "def isRecommended(pred):\n",
    "    return (pred.est>4.5)*1"
   ]
  },
  {
   "cell_type": "code",
   "execution_count": 67,
   "id": "8a753f52",
   "metadata": {},
   "outputs": [],
   "source": [
    "recommend = list(map(isRecommended, predictions))"
   ]
  },
  {
   "cell_type": "code",
   "execution_count": 68,
   "id": "49a13518",
   "metadata": {},
   "outputs": [],
   "source": [
    "liked = list(map(isLiked, predictions))"
   ]
  },
  {
   "cell_type": "code",
   "execution_count": 69,
   "id": "fed3771c",
   "metadata": {},
   "outputs": [],
   "source": [
    "cm =confusion_matrix(liked, recommend)"
   ]
  },
  {
   "cell_type": "code",
   "execution_count": 70,
   "id": "95a67d00",
   "metadata": {},
   "outputs": [
    {
     "data": {
      "image/png": "[encoded data removed]",
      "text/plain": [
       "<Figure size 432x288 with 2 Axes>"
      ]
     },
     "metadata": {
      "needs_background": "light"
     },
     "output_type": "display_data"
    }
   ],
   "source": [
    "disp = ConfusionMatrixDisplay(confusion_matrix=cm)\n",
    "disp.plot()\n",
    "plt.show()"
   ]
  },
  {
   "cell_type": "code",
   "execution_count": 71,
   "id": "04ee66d6",
   "metadata": {},
   "outputs": [
    {
     "data": {
      "text/plain": [
       "0.8771739868690175"
      ]
     },
     "execution_count": 71,
     "metadata": {},
     "output_type": "execute_result"
    }
   ],
   "source": [
    "accuracy_score(liked, recommend)"
   ]
  },
  {
   "cell_type": "code",
   "execution_count": 72,
   "id": "de008507",
   "metadata": {},
   "outputs": [
    {
     "data": {
      "text/plain": [
       "0.6403903522153294"
      ]
     },
     "execution_count": 72,
     "metadata": {},
     "output_type": "execute_result"
    }
   ],
   "source": [
    "precision_score(liked, recommend, average='binary')"
   ]
  },
  {
   "cell_type": "code",
   "execution_count": 73,
   "id": "929bfcd6",
   "metadata": {},
   "outputs": [
    {
     "data": {
      "text/plain": [
       "0.4699671999110612"
      ]
     },
     "execution_count": 73,
     "metadata": {},
     "output_type": "execute_result"
    }
   ],
   "source": [
    "f1_score(liked, recommend, average='binary')"
   ]
  },
  {
   "cell_type": "code",
   "execution_count": 74,
   "id": "cefb17e6",
   "metadata": {},
   "outputs": [],
   "source": [
    "def isLiked(pred):\n",
    "    return (pred.r_ui>3)*1"
   ]
  },
  {
   "cell_type": "code",
   "execution_count": 75,
   "id": "db60ac91",
   "metadata": {},
   "outputs": [],
   "source": [
    "def isRecommended(pred):\n",
    "    return (pred.est>3)*1"
   ]
  },
  {
   "cell_type": "code",
   "execution_count": 76,
   "id": "3ffc9ebf",
   "metadata": {},
   "outputs": [],
   "source": [
    "recommend = list(map(isRecommended, predictions))"
   ]
  },
  {
   "cell_type": "code",
   "execution_count": 77,
   "id": "e145cb15",
   "metadata": {},
   "outputs": [],
   "source": [
    "liked = list(map(isLiked, predictions))"
   ]
  },
  {
   "cell_type": "code",
   "execution_count": 78,
   "id": "eea11bcd",
   "metadata": {},
   "outputs": [],
   "source": [
    "cm =confusion_matrix(liked, recommend)"
   ]
  },
  {
   "cell_type": "code",
   "execution_count": 79,
   "id": "aa723d78",
   "metadata": {},
   "outputs": [
    {
     "data": {
      "image/png": "[encoded data removed]",
      "text/plain": [
       "<Figure size 432x288 with 2 Axes>"
      ]
     },
     "metadata": {
      "needs_background": "light"
     },
     "output_type": "display_data"
    }
   ],
   "source": [
    "disp = ConfusionMatrixDisplay(confusion_matrix=cm)\n",
    "disp.plot()\n",
    "plt.show()"
   ]
  },
  {
   "cell_type": "code",
   "execution_count": 80,
   "id": "1cc43ae4",
   "metadata": {},
   "outputs": [
    {
     "data": {
      "text/plain": [
       "0.7741660539799654"
      ]
     },
     "execution_count": 80,
     "metadata": {},
     "output_type": "execute_result"
    }
   ],
   "source": [
    "accuracy_score(liked, recommend)"
   ]
  },
  {
   "cell_type": "code",
   "execution_count": 81,
   "id": "3eb57971",
   "metadata": {
    "scrolled": true
   },
   "outputs": [
    {
     "data": {
      "text/plain": [
       "0.7493521272721607"
      ]
     },
     "execution_count": 81,
     "metadata": {},
     "output_type": "execute_result"
    }
   ],
   "source": [
    "precision_score(liked, recommend, average='binary')"
   ]
  },
  {
   "cell_type": "code",
   "execution_count": 82,
   "id": "680643c5",
   "metadata": {},
   "outputs": [
    {
     "data": {
      "text/plain": [
       "0.8401574333257165"
      ]
     },
     "execution_count": 82,
     "metadata": {},
     "output_type": "execute_result"
    }
   ],
   "source": [
    "f1_score(liked, recommend, average='binary')"
   ]
  },
  {
   "cell_type": "code",
   "execution_count": 83,
   "id": "69540132",
   "metadata": {},
   "outputs": [],
   "source": [
    "def isLiked(pred):\n",
    "    return (pred.r_ui>2.5)*1"
   ]
  },
  {
   "cell_type": "code",
   "execution_count": 84,
   "id": "a96f2a72",
   "metadata": {},
   "outputs": [],
   "source": [
    "def isRecommended(pred):\n",
    "    return (pred.est>2.5)*1"
   ]
  },
  {
   "cell_type": "code",
   "execution_count": 85,
   "id": "8158ec1f",
   "metadata": {},
   "outputs": [],
   "source": [
    "recommend = list(map(isRecommended, predictions))"
   ]
  },
  {
   "cell_type": "code",
   "execution_count": 86,
   "id": "80ab90a4",
   "metadata": {},
   "outputs": [],
   "source": [
    "liked = list(map(isLiked, predictions))"
   ]
  },
  {
   "cell_type": "code",
   "execution_count": 87,
   "id": "5b7274d6",
   "metadata": {},
   "outputs": [],
   "source": [
    "cm =confusion_matrix(liked, recommend)"
   ]
  },
  {
   "cell_type": "code",
   "execution_count": 88,
   "id": "5e2167a0",
   "metadata": {},
   "outputs": [
    {
     "data": {
      "image/png": "[encoded data removed]",
      "text/plain": [
       "<Figure size 432x288 with 2 Axes>"
      ]
     },
     "metadata": {
      "needs_background": "light"
     },
     "output_type": "display_data"
    }
   ],
   "source": [
    "disp = ConfusionMatrixDisplay(confusion_matrix=cm)\n",
    "disp.plot()\n",
    "plt.show()"
   ]
  },
  {
   "cell_type": "code",
   "execution_count": 89,
   "id": "16cfc9e4",
   "metadata": {},
   "outputs": [
    {
     "data": {
      "text/plain": [
       "0.8774044087139452"
      ]
     },
     "execution_count": 89,
     "metadata": {},
     "output_type": "execute_result"
    }
   ],
   "source": [
    "accuracy_score(liked, recommend)"
   ]
  },
  {
   "cell_type": "code",
   "execution_count": 90,
   "id": "b7804a38",
   "metadata": {
    "scrolled": true
   },
   "outputs": [
    {
     "data": {
      "text/plain": [
       "0.8831949333380343"
      ]
     },
     "execution_count": 90,
     "metadata": {},
     "output_type": "execute_result"
    }
   ],
   "source": [
    "precision_score(liked, recommend, average='binary')"
   ]
  },
  {
   "cell_type": "code",
   "execution_count": 91,
   "id": "e8bdeccb",
   "metadata": {},
   "outputs": [
    {
     "data": {
      "text/plain": [
       "0.9291020657700786"
      ]
     },
     "execution_count": 91,
     "metadata": {},
     "output_type": "execute_result"
    }
   ],
   "source": [
    "f1_score(liked, recommend, average='binary')"
   ]
  },
  {
   "cell_type": "code",
   "execution_count": 92,
   "id": "67a9e7fd",
   "metadata": {},
   "outputs": [],
   "source": [
    "def isLiked(pred):\n",
    "    return (pred.r_ui>2)*1"
   ]
  },
  {
   "cell_type": "code",
   "execution_count": 93,
   "id": "9efa153d",
   "metadata": {},
   "outputs": [],
   "source": [
    "def isRecommended(pred):\n",
    "    return (pred.est>2)*1"
   ]
  },
  {
   "cell_type": "code",
   "execution_count": 94,
   "id": "fbc66b7c",
   "metadata": {},
   "outputs": [],
   "source": [
    "recommend = list(map(isRecommended, predictions))"
   ]
  },
  {
   "cell_type": "code",
   "execution_count": 95,
   "id": "ce749402",
   "metadata": {},
   "outputs": [],
   "source": [
    "liked = list(map(isLiked, predictions))"
   ]
  },
  {
   "cell_type": "code",
   "execution_count": 96,
   "id": "6450f52e",
   "metadata": {},
   "outputs": [],
   "source": [
    "cm =confusion_matrix(liked, recommend)"
   ]
  },
  {
   "cell_type": "code",
   "execution_count": 97,
   "id": "aaac8548",
   "metadata": {},
   "outputs": [
    {
     "data": {
      "image/png": "[encoded data removed]",
      "text/plain": [
       "<Figure size 432x288 with 2 Axes>"
      ]
     },
     "metadata": {
      "needs_background": "light"
     },
     "output_type": "display_data"
    }
   ],
   "source": [
    "disp = ConfusionMatrixDisplay(confusion_matrix=cm)\n",
    "disp.plot()\n",
    "plt.show()"
   ]
  },
  {
   "cell_type": "code",
   "execution_count": 98,
   "id": "c618f3ad",
   "metadata": {},
   "outputs": [
    {
     "data": {
      "text/plain": [
       "0.8976067655745079"
      ]
     },
     "execution_count": 98,
     "metadata": {},
     "output_type": "execute_result"
    }
   ],
   "source": [
    "accuracy_score(liked, recommend)"
   ]
  },
  {
   "cell_type": "code",
   "execution_count": 99,
   "id": "2a4beeb1",
   "metadata": {
    "scrolled": true
   },
   "outputs": [
    {
     "data": {
      "text/plain": [
       "0.8980612886561109"
      ]
     },
     "execution_count": 99,
     "metadata": {},
     "output_type": "execute_result"
    }
   ],
   "source": [
    "precision_score(liked, recommend, average='binary')"
   ]
  },
  {
   "cell_type": "code",
   "execution_count": 100,
   "id": "b747e8fd",
   "metadata": {},
   "outputs": [
    {
     "data": {
      "text/plain": [
       "0.9441214030463039"
      ]
     },
     "execution_count": 100,
     "metadata": {},
     "output_type": "execute_result"
    }
   ],
   "source": [
    "f1_score(liked, recommend, average='binary')"
   ]
  },
  {
   "cell_type": "code",
   "execution_count": 111,
   "id": "cd707e0e",
   "metadata": {},
   "outputs": [],
   "source": [
    "def isLiked(pred):\n",
    "    return (pred.r_ui>1)*1"
   ]
  },
  {
   "cell_type": "code",
   "execution_count": 112,
   "id": "d0fc261d",
   "metadata": {},
   "outputs": [],
   "source": [
    "def isRecommended(pred):\n",
    "    return (pred.est>1)*1"
   ]
  },
  {
   "cell_type": "code",
   "execution_count": 113,
   "id": "c931f6dd",
   "metadata": {},
   "outputs": [],
   "source": [
    "recommend = list(map(isRecommended, predictions))"
   ]
  },
  {
   "cell_type": "code",
   "execution_count": 114,
   "id": "fa9e710d",
   "metadata": {},
   "outputs": [],
   "source": [
    "liked = list(map(isLiked, predictions))"
   ]
  },
  {
   "cell_type": "code",
   "execution_count": 115,
   "id": "b6c06230",
   "metadata": {},
   "outputs": [],
   "source": [
    "cm =confusion_matrix(liked, recommend)"
   ]
  },
  {
   "cell_type": "code",
   "execution_count": 116,
   "id": "4d30cc62",
   "metadata": {},
   "outputs": [
    {
     "data": {
      "image/png": "[encoded data removed]",
      "text/plain": [
       "<Figure size 432x288 with 2 Axes>"
      ]
     },
     "metadata": {
      "needs_background": "light"
     },
     "output_type": "display_data"
    }
   ],
   "source": [
    "disp = ConfusionMatrixDisplay(confusion_matrix=cm)\n",
    "disp.plot()\n",
    "plt.show()"
   ]
  },
  {
   "cell_type": "code",
   "execution_count": 117,
   "id": "c6015d9e",
   "metadata": {},
   "outputs": [
    {
     "data": {
      "text/plain": [
       "0.9558018833337627"
      ]
     },
     "execution_count": 117,
     "metadata": {},
     "output_type": "execute_result"
    }
   ],
   "source": [
    "accuracy_score(liked, recommend)"
   ]
  },
  {
   "cell_type": "code",
   "execution_count": 118,
   "id": "9f415909",
   "metadata": {
    "scrolled": true
   },
   "outputs": [
    {
     "data": {
      "text/plain": [
       "0.955938195709485"
      ]
     },
     "execution_count": 118,
     "metadata": {},
     "output_type": "execute_result"
    }
   ],
   "source": [
    "precision_score(liked, recommend, average='binary')"
   ]
  },
  {
   "cell_type": "code",
   "execution_count": 119,
   "id": "c2280d4a",
   "metadata": {},
   "outputs": [
    {
     "data": {
      "text/plain": [
       "0.9773071622159117"
      ]
     },
     "execution_count": 119,
     "metadata": {},
     "output_type": "execute_result"
    }
   ],
   "source": [
    "f1_score(liked, recommend, average='binary')"
   ]
  }
 ],
 "metadata": {
  "kernelspec": {
   "display_name": "Python 3",
   "language": "python",
   "name": "python3"
  },
  "language_info": {
   "codemirror_mode": {
    "name": "ipython",
    "version": 3
   },
   "file_extension": ".py",
   "mimetype": "text/x-python",
   "name": "python",
   "nbconvert_exporter": "python",
   "pygments_lexer": "ipython3",
   "version": "3.8.8"
  }
 },
 "nbformat": 4,
 "nbformat_minor": 5
}
