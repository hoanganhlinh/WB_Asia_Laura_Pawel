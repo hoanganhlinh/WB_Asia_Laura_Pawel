{
 "cells": [
  {
   "cell_type": "code",
   "execution_count": 14,
   "id": "98646a17",
   "metadata": {},
   "outputs": [],
   "source": [
    "import pandas as pd\n",
    "from surprise import Dataset\n",
    "from surprise import Reader\n",
    "from surprise import KNNWithMeans\n",
    "from surprise.model_selection import cross_validate\n",
    "from surprise.model_selection import train_test_split\n",
    "import numpy as np\n",
    "import pickle\n",
    "import random \n",
    "from surprise import accuracy"
   ]
  },
  {
   "cell_type": "code",
   "execution_count": 2,
   "id": "d73ea090",
   "metadata": {},
   "outputs": [],
   "source": [
    "from surprise import NMF, SlopeOne, CoClustering, SVD, KNNWithMeans"
   ]
  },
  {
   "cell_type": "code",
   "execution_count": 3,
   "id": "5dfba51d",
   "metadata": {},
   "outputs": [],
   "source": [
    "random.seed(10)"
   ]
  },
  {
   "cell_type": "code",
   "execution_count": 4,
   "id": "49d96c23",
   "metadata": {},
   "outputs": [
    {
     "name": "stdout",
     "output_type": "stream",
     "text": [
      "   userId  movieId  rating   timestamp\n",
      "0       1      307     3.5  1256677221\n",
      "1       1      481     3.5  1256677456\n",
      "2       1     1091     1.5  1256677471\n",
      "3       1     1257     4.5  1256677460\n",
      "4       1     1449     4.5  1256677264\n",
      "   movieId                        title  year    rating  Western  Film-Noir  \\\n",
      "0        1                    Toy Story  1995  3.886649        0          0   \n",
      "1        2                      Jumanji  1995  3.246583        0          0   \n",
      "2        3             Grumpier Old Men  1995  3.173981        0          0   \n",
      "3        4            Waiting to Exhale  1995  2.874540        0          0   \n",
      "4        5  Father of the Bride Part II  1995  3.077291        0          0   \n",
      "\n",
      "   IMAX  Musical  Sci-Fi  Adventure  ...  Action  War  Mystery  Animation  \\\n",
      "0     0        0       0          1  ...       0    0        0          1   \n",
      "1     0        0       0          1  ...       0    0        0          0   \n",
      "2     0        0       0          0  ...       0    0        0          0   \n",
      "3     0        0       0          0  ...       0    0        0          0   \n",
      "4     0        0       0          0  ...       0    0        0          0   \n",
      "\n",
      "   Comedy  Crime  Fantasy  Drama  Horror  Thriller  \n",
      "0       1      0        1      0       0         0  \n",
      "1       0      0        1      0       0         0  \n",
      "2       1      0        0      0       0         0  \n",
      "3       1      0        0      1       0         0  \n",
      "4       1      0        0      0       0         0  \n",
      "\n",
      "[5 rows x 23 columns]\n"
     ]
    }
   ],
   "source": [
    "ratings = pd.read_csv('ml-latest/ratings.csv')\n",
    "print(ratings.head())\n",
    "movies = pd.read_csv(\"movies_FINAL.csv\")\n",
    "print(movies.head())"
   ]
  },
  {
   "cell_type": "code",
   "execution_count": 5,
   "id": "41d0f558",
   "metadata": {},
   "outputs": [],
   "source": [
    "reader = Reader(rating_scale=(0.5, 5))"
   ]
  },
  {
   "cell_type": "code",
   "execution_count": 6,
   "id": "e2c6484f",
   "metadata": {},
   "outputs": [],
   "source": [
    "data = Dataset.load_from_df(ratings[[\"userId\", \"movieId\", \"rating\"]], reader)"
   ]
  },
  {
   "cell_type": "code",
   "execution_count": 7,
   "id": "cb620736",
   "metadata": {},
   "outputs": [],
   "source": [
    "trainset, testset = train_test_split(data, test_size=.2)"
   ]
  },
  {
   "cell_type": "code",
   "execution_count": 8,
   "id": "ce772b83",
   "metadata": {},
   "outputs": [],
   "source": [
    "#algo = SVD()"
   ]
  },
  {
   "cell_type": "code",
   "execution_count": null,
   "id": "426bd64d",
   "metadata": {},
   "outputs": [],
   "source": [
    "filename = 'SVD_model.sav'"
   ]
  },
  {
   "cell_type": "code",
   "execution_count": null,
   "id": "a7fcffb9",
   "metadata": {},
   "outputs": [],
   "source": [
    "algo = pickle.load(open(filename, 'rb'))"
   ]
  },
  {
   "cell_type": "code",
   "execution_count": 10,
   "id": "e74abea2",
   "metadata": {},
   "outputs": [
    {
     "data": {
      "text/plain": [
       "<surprise.prediction_algorithms.matrix_factorization.SVD at 0x2920a322670>"
      ]
     },
     "execution_count": 10,
     "metadata": {},
     "output_type": "execute_result"
    }
   ],
   "source": [
    "#algo.fit(trainset)"
   ]
  },
  {
   "cell_type": "code",
   "execution_count": 11,
   "id": "f966f43f",
   "metadata": {},
   "outputs": [],
   "source": [
    "pickle.dump(algo, open(filename, 'wb'))"
   ]
  },
  {
   "cell_type": "code",
   "execution_count": 12,
   "id": "b6e87688",
   "metadata": {},
   "outputs": [
    {
     "name": "stdout",
     "output_type": "stream",
     "text": [
      "user: 1          item: 307        r_ui = 3.50   est = 3.98   {'was_impossible': False}\n"
     ]
    },
    {
     "data": {
      "text/plain": [
       "Prediction(uid=1, iid=307, r_ui=3.5, est=3.976031439838299, details={'was_impossible': False})"
      ]
     },
     "execution_count": 12,
     "metadata": {},
     "output_type": "execute_result"
    }
   ],
   "source": [
    "algo.predict(1, 307, r_ui =3.5,verbose=True)"
   ]
  },
  {
   "cell_type": "code",
   "execution_count": 16,
   "id": "2fa2dba0",
   "metadata": {},
   "outputs": [],
   "source": [
    "predictions = algo.test(testset)\n",
    "# Then compute RMSE"
   ]
  },
  {
   "cell_type": "code",
   "execution_count": 15,
   "id": "e2cf2351",
   "metadata": {},
   "outputs": [
    {
     "name": "stdout",
     "output_type": "stream",
     "text": [
      "RMSE: 0.7950\n"
     ]
    },
    {
     "data": {
      "text/plain": [
       "0.7949583338171539"
      ]
     },
     "execution_count": 15,
     "metadata": {},
     "output_type": "execute_result"
    }
   ],
   "source": [
    "accuracy.rmse(predictions)"
   ]
  },
  {
   "cell_type": "code",
   "execution_count": 17,
   "id": "96a2d799",
   "metadata": {},
   "outputs": [],
   "source": [
    "sim_options = {\n",
    "    \"name\": \"cosine\",\n",
    "    \"user_based\": False,\n",
    "}"
   ]
  },
  {
   "cell_type": "markdown",
   "id": "4f7b5bd4",
   "metadata": {},
   "source": [
    "SVD - RMSE: 0.7950 - 910 MB\n",
    "NMF - RMSE: 0.8777 - 910 MB\n",
    "CoClustering - RMSE: 0.8759 - 824 MB"
   ]
  },
  {
   "cell_type": "code",
   "execution_count": 22,
   "id": "dc707a00",
   "metadata": {},
   "outputs": [
    {
     "data": {
      "text/plain": [
       "<surprise.prediction_algorithms.matrix_factorization.NMF at 0x2920cabfc10>"
      ]
     },
     "execution_count": 22,
     "metadata": {},
     "output_type": "execute_result"
    }
   ],
   "source": [
    "algo2 = NMF()\n",
    "algo2.fit(trainset)"
   ]
  },
  {
   "cell_type": "code",
   "execution_count": 26,
   "id": "0506a9fc",
   "metadata": {},
   "outputs": [
    {
     "name": "stdout",
     "output_type": "stream",
     "text": [
      "user: 1          item: 307        r_ui = 3.50   est = 4.14   {'was_impossible': False}\n"
     ]
    },
    {
     "data": {
      "text/plain": [
       "Prediction(uid=1, iid=307, r_ui=3.5, est=4.144688657770828, details={'was_impossible': False})"
      ]
     },
     "execution_count": 26,
     "metadata": {},
     "output_type": "execute_result"
    }
   ],
   "source": [
    "algo2.predict(1, 307, r_ui =3.5,verbose=True)"
   ]
  },
  {
   "cell_type": "code",
   "execution_count": 24,
   "id": "2aa9a080",
   "metadata": {},
   "outputs": [
    {
     "name": "stdout",
     "output_type": "stream",
     "text": [
      "RMSE: 0.8777\n"
     ]
    },
    {
     "data": {
      "text/plain": [
       "0.8776966157204822"
      ]
     },
     "execution_count": 24,
     "metadata": {},
     "output_type": "execute_result"
    }
   ],
   "source": [
    "predictions2 = algo2.test(testset)\n",
    "accuracy.rmse(predictions2)"
   ]
  },
  {
   "cell_type": "code",
   "execution_count": 35,
   "id": "3ec81bbf",
   "metadata": {},
   "outputs": [],
   "source": [
    "filename2 = 'NMF_model.sav'"
   ]
  },
  {
   "cell_type": "code",
   "execution_count": 36,
   "id": "ac13ed5b",
   "metadata": {},
   "outputs": [],
   "source": [
    "pickle.dump(algo, open(filename2, 'wb'))"
   ]
  },
  {
   "cell_type": "code",
   "execution_count": 32,
   "id": "5316da8f",
   "metadata": {},
   "outputs": [],
   "source": [
    "d = data.build_full_trainset()"
   ]
  },
  {
   "cell_type": "code",
   "execution_count": 33,
   "id": "b4388af8",
   "metadata": {},
   "outputs": [
    {
     "name": "stderr",
     "output_type": "stream",
     "text": [
      "<ipython-input-33-b422e26ab8dc>:2: DeprecationWarning: `np.int` is a deprecated alias for the builtin `int`. To silence this warning, use `int` by itself. Doing this will not modify any behavior and is safe. When replacing `np.int`, you may wish to use e.g. `np.int64` or `np.int32` to specify the precision. If you wish to review your current use, check the release note link for additional information.\n",
      "Deprecated in NumPy 1.20; for more details and guidance: https://numpy.org/devdocs/release/1.20.0-notes.html#deprecations\n",
      "  algo4.fit(d)\n"
     ]
    },
    {
     "data": {
      "text/plain": [
       "<surprise.prediction_algorithms.co_clustering.CoClustering at 0x2920a338070>"
      ]
     },
     "execution_count": 33,
     "metadata": {},
     "output_type": "execute_result"
    }
   ],
   "source": [
    "algo4 = CoClustering()\n",
    "algo4.fit(d)"
   ]
  },
  {
   "cell_type": "code",
   "execution_count": 34,
   "id": "946d023b",
   "metadata": {},
   "outputs": [
    {
     "name": "stdout",
     "output_type": "stream",
     "text": [
      "RMSE: 0.8759\n"
     ]
    },
    {
     "data": {
      "text/plain": [
       "0.8759418420182284"
      ]
     },
     "execution_count": 34,
     "metadata": {},
     "output_type": "execute_result"
    }
   ],
   "source": [
    "predictions4 = algo4.test(testset)\n",
    "accuracy.rmse(predictions4)"
   ]
  },
  {
   "cell_type": "code",
   "execution_count": 37,
   "id": "acdf8e3d",
   "metadata": {},
   "outputs": [],
   "source": [
    "filename3 = 'Cluster_model.sav'"
   ]
  },
  {
   "cell_type": "code",
   "execution_count": 38,
   "id": "4dac8bc0",
   "metadata": {},
   "outputs": [],
   "source": [
    "pickle.dump(algo4, open(filename3, 'wb'))"
   ]
  },
  {
   "cell_type": "code",
   "execution_count": null,
   "id": "869c889d",
   "metadata": {},
   "outputs": [],
   "source": []
  }
 ],
 "metadata": {
  "kernelspec": {
   "display_name": "Python 3",
   "language": "python",
   "name": "python3"
  },
  "language_info": {
   "codemirror_mode": {
    "name": "ipython",
    "version": 3
   },
   "file_extension": ".py",
   "mimetype": "text/x-python",
   "name": "python",
   "nbconvert_exporter": "python",
   "pygments_lexer": "ipython3",
   "version": "3.8.8"
  }
 },
 "nbformat": 4,
 "nbformat_minor": 5
}
