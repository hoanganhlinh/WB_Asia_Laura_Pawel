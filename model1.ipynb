{
 "cells": [
  {
   "cell_type": "code",
   "execution_count": 1,
   "id": "fd34e140",
   "metadata": {},
   "outputs": [],
   "source": [
    "import numpy as np\n",
    "import pandas as pd\n",
    "import sklearn\n",
    "import matplotlib.pyplot as plt\n",
    "import seaborn as sns\n",
    "from sklearn.neighbors import NearestNeighbors\n",
    "from scipy.sparse import csr_matrix"
   ]
  },
  {
   "cell_type": "code",
   "execution_count": 2,
   "id": "462ac878",
   "metadata": {},
   "outputs": [
    {
     "name": "stdout",
     "output_type": "stream",
     "text": [
      "   userId  movieId  rating   timestamp\n",
      "0       1      307     3.5  1256677221\n",
      "1       1      481     3.5  1256677456\n",
      "2       1     1091     1.5  1256677471\n",
      "3       1     1257     4.5  1256677460\n",
      "4       1     1449     4.5  1256677264\n",
      "   movieId                        title  year    rating  Western  Film-Noir  \\\n",
      "0        1                    Toy Story  1995  3.886649        0          0   \n",
      "1        2                      Jumanji  1995  3.246583        0          0   \n",
      "2        3             Grumpier Old Men  1995  3.173981        0          0   \n",
      "3        4            Waiting to Exhale  1995  2.874540        0          0   \n",
      "4        5  Father of the Bride Part II  1995  3.077291        0          0   \n",
      "\n",
      "   IMAX  Musical  Sci-Fi  Adventure  ...  Action  War  Mystery  Animation  \\\n",
      "0     0        0       0          1  ...       0    0        0          1   \n",
      "1     0        0       0          1  ...       0    0        0          0   \n",
      "2     0        0       0          0  ...       0    0        0          0   \n",
      "3     0        0       0          0  ...       0    0        0          0   \n",
      "4     0        0       0          0  ...       0    0        0          0   \n",
      "\n",
      "   Comedy  Crime  Fantasy  Drama  Horror  Thriller  \n",
      "0       1      0        1      0       0         0  \n",
      "1       0      0        1      0       0         0  \n",
      "2       1      0        0      0       0         0  \n",
      "3       1      0        0      1       0         0  \n",
      "4       1      0        0      0       0         0  \n",
      "\n",
      "[5 rows x 23 columns]\n"
     ]
    }
   ],
   "source": [
    "ratings = pd.read_csv('ml-latest/ratings.csv')\n",
    "print(ratings.head())\n",
    "  \n",
    "movies = pd.read_csv(\"movies_FINAL.csv\")\n",
    "print(movies.head())\n",
    "  \n",
    "n_ratings = len(ratings)\n",
    "n_movies = len(ratings['movieId'].unique())\n",
    "n_users = len(ratings['userId'].unique())"
   ]
  },
  {
   "cell_type": "code",
   "execution_count": 3,
   "id": "cbde4a82",
   "metadata": {},
   "outputs": [],
   "source": [
    "def create_matrix(df):\n",
    "      \n",
    "    N = len(df['userId'].unique())\n",
    "    M = len(df['movieId'].unique())\n",
    "      \n",
    "    # Map Ids to indices\n",
    "    user_mapper = dict(zip(np.unique(df[\"userId\"]), list(range(N))))\n",
    "    movie_mapper = dict(zip(np.unique(df[\"movieId\"]), list(range(M))))\n",
    "      \n",
    "    # Map indices to IDs\n",
    "    user_inv_mapper = dict(zip(list(range(N)), np.unique(df[\"userId\"])))\n",
    "    movie_inv_mapper = dict(zip(list(range(M)), np.unique(df[\"movieId\"])))\n",
    "      \n",
    "    user_index = [user_mapper[i] for i in df['userId']]\n",
    "    movie_index = [movie_mapper[i] for i in df['movieId']]\n",
    "  \n",
    "    X = csr_matrix((df[\"rating\"], (movie_index, user_index)), shape=(M, N))\n",
    "      \n",
    "    return X, user_mapper, movie_mapper, user_inv_mapper, movie_inv_mapper"
   ]
  },
  {
   "cell_type": "code",
   "execution_count": 4,
   "id": "77f7b556",
   "metadata": {},
   "outputs": [],
   "source": [
    "def find_similar_movies(movie_id, X, k, metric='cosine', show_distance=False):\n",
    "      \n",
    "    neighbour_ids = []\n",
    "    movie_ind = movie_mapper[movie_id]\n",
    "    movie_vec = X[movie_ind]\n",
    "    k+=1\n",
    "    kNN = NearestNeighbors(n_neighbors=k, algorithm=\"brute\", metric=metric)\n",
    "    kNN.fit(X)\n",
    "    movie_vec = movie_vec.reshape(1,-1)\n",
    "    neighbour = kNN.kneighbors(movie_vec, return_distance=show_distance)\n",
    "    for i in range(0,k):\n",
    "        n = neighbour.item(i)\n",
    "        neighbour_ids.append(movie_inv_mapper[n])\n",
    "    neighbour_ids.pop(0)\n",
    "    return neighbour_ids"
   ]
  },
  {
   "cell_type": "code",
   "execution_count": 5,
   "id": "a58e65f3",
   "metadata": {},
   "outputs": [],
   "source": [
    "X, user_mapper, movie_mapper, user_inv_mapper, movie_inv_mapper = create_matrix(ratings)"
   ]
  },
  {
   "cell_type": "code",
   "execution_count": 6,
   "id": "a4d1dbe9",
   "metadata": {},
   "outputs": [],
   "source": [
    "movie_titles = dict(zip(movies['movieId'], movies['title']))"
   ]
  },
  {
   "cell_type": "code",
   "execution_count": 8,
   "id": "63dc34f6",
   "metadata": {},
   "outputs": [
    {
     "name": "stdout",
     "output_type": "stream",
     "text": [
      "Ponieważ obejżałeś Toy Story, może polubisz:\n",
      "\n",
      "Star Wars: Episode IV - A New Hope\n",
      "Independence Day (a.k.a. ID4)\n",
      "Toy Story 2\n",
      "Back to the Future\n",
      "Jurassic Park\n",
      "Forrest Gump\n",
      "Lion King, The\n",
      "Mission: Impossible\n",
      "Star Wars: Episode VI - Return of the Jedi\n",
      "Aladdin\n"
     ]
    }
   ],
   "source": [
    "movie_id = 1\n",
    "similar_ids = find_similar_movies(movie_id, X, k=10)\n",
    "movie_title = movie_titles[movie_id]\n",
    "print(f\"Ponieważ obejżałeś {movie_title}, może polubisz:\\n\")\n",
    "for i in similar_ids:\n",
    "    print(movie_titles[i])"
   ]
  },
  {
   "cell_type": "code",
   "execution_count": 7,
   "id": "e467e136",
   "metadata": {},
   "outputs": [
    {
     "name": "stdout",
     "output_type": "stream",
     "text": [
      "Ponieważ obejżałeś Three Colors: Red (Trois couleurs: Rouge), może polubisz:\n",
      "\n",
      "Three Colors: Blue (Trois couleurs: Bleu)\n",
      "Three Colors: White (Trzy kolory: Bialy)\n",
      "Double Life of Veronique, The (Double Vie de Véronique, La)\n",
      "Eat Drink Man Woman (Yin shi nan nu)\n",
      "Piano, The\n",
      "Short Cuts\n",
      "Beauty of the Day (Belle de jour)\n",
      "Smoke\n",
      "Like Water for Chocolate (Como agua para chocolate)\n",
      "Heavenly Creatures\n"
     ]
    }
   ],
   "source": [
    "movie_id = 306\n",
    "similar_ids = find_similar_movies(movie_id, X, k=10)\n",
    "movie_title = movie_titles[movie_id]\n",
    "print(f\"Ponieważ obejżałeś {movie_title}, może polubisz:\\n\")\n",
    "for i in similar_ids:\n",
    "    print(movie_titles[i])"
   ]
  },
  {
   "cell_type": "code",
   "execution_count": null,
   "id": "6a9f0389",
   "metadata": {},
   "outputs": [],
   "source": []
  }
 ],
 "metadata": {
  "kernelspec": {
   "display_name": "Python 3",
   "language": "python",
   "name": "python3"
  },
  "language_info": {
   "codemirror_mode": {
    "name": "ipython",
    "version": 3
   },
   "file_extension": ".py",
   "mimetype": "text/x-python",
   "name": "python",
   "nbconvert_exporter": "python",
   "pygments_lexer": "ipython3",
   "version": "3.8.8"
  }
 },
 "nbformat": 4,
 "nbformat_minor": 5
}
