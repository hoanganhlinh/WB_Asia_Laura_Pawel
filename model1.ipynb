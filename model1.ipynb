{
 "cells": [
  {
   "cell_type": "markdown",
   "id": "120d1ace",
   "metadata": {},
   "source": [
    "# Model 1\n",
    "Nasz pierwszy model oparty jest na systemie porównującym podobnych użytkowników."
   ]
  },
  {
   "cell_type": "code",
   "execution_count": 70,
   "id": "83d236ef",
   "metadata": {},
   "outputs": [],
   "source": [
    "import numpy as np\n",
    "import pandas as pd\n",
    "import sklearn\n",
    "import matplotlib.pyplot as plt\n",
    "import seaborn as sns\n",
    "from sklearn.neighbors import NearestNeighbors"
   ]
  },
  {
   "cell_type": "markdown",
   "id": "788f4308",
   "metadata": {},
   "source": [
    "##### Nasze dane:"
   ]
  },
  {
   "cell_type": "code",
   "execution_count": 71,
   "id": "fadb7990",
   "metadata": {},
   "outputs": [],
   "source": [
    "genome_scores = pd.read_csv('ml-latest/genome-scores.csv')\n",
    "genome_tags = pd.read_csv('ml-latest/genome-tags.csv')\n",
    "links = pd.read_csv('ml-latest/links.csv')\n",
    "tags = pd.read_csv('ml-latest/tags.csv')"
   ]
  },
  {
   "cell_type": "code",
   "execution_count": 72,
   "id": "59a9c4d0",
   "metadata": {},
   "outputs": [],
   "source": [
    "ratings = pd.read_csv('ml-latest/ratings.csv')\n",
    "movies = pd.read_csv(\"movies_FINAL.csv\")\n",
    "  \n",
    "n_ratings = len(ratings)\n",
    "n_movies = len(ratings['movieId'].unique())\n",
    "n_users = len(ratings['userId'].unique())"
   ]
  },
  {
   "cell_type": "code",
   "execution_count": 4,
   "id": "099d680d",
   "metadata": {},
   "outputs": [
    {
     "name": "stdout",
     "output_type": "stream",
     "text": [
      "Number of ratings: 27753444\n",
      "Number of unique movieId's: 53889\n",
      "Number of unique users: 283228\n",
      "Average ratings per user: 97.99\n",
      "Average ratings per movie: 515.01\n"
     ]
    }
   ],
   "source": [
    "print(f\"Number of ratings: {n_ratings}\")\n",
    "print(f\"Number of unique movieId's: {n_movies}\")\n",
    "print(f\"Number of unique users: {n_users}\")\n",
    "print(f\"Average ratings per user: {round(n_ratings/n_users, 2)}\")\n",
    "print(f\"Average ratings per movie: {round(n_ratings/n_movies, 2)}\")"
   ]
  },
  {
   "cell_type": "code",
   "execution_count": 5,
   "id": "6afd6021",
   "metadata": {},
   "outputs": [
    {
     "data": {
      "text/html": [
       "<div>\n",
       "<style scoped>\n",
       "    .dataframe tbody tr th:only-of-type {\n",
       "        vertical-align: middle;\n",
       "    }\n",
       "\n",
       "    .dataframe tbody tr th {\n",
       "        vertical-align: top;\n",
       "    }\n",
       "\n",
       "    .dataframe thead th {\n",
       "        text-align: right;\n",
       "    }\n",
       "</style>\n",
       "<table border=\"1\" class=\"dataframe\">\n",
       "  <thead>\n",
       "    <tr style=\"text-align: right;\">\n",
       "      <th></th>\n",
       "      <th>userId</th>\n",
       "      <th>n_ratings</th>\n",
       "    </tr>\n",
       "  </thead>\n",
       "  <tbody>\n",
       "    <tr>\n",
       "      <th>0</th>\n",
       "      <td>1</td>\n",
       "      <td>16</td>\n",
       "    </tr>\n",
       "    <tr>\n",
       "      <th>1</th>\n",
       "      <td>2</td>\n",
       "      <td>15</td>\n",
       "    </tr>\n",
       "    <tr>\n",
       "      <th>2</th>\n",
       "      <td>3</td>\n",
       "      <td>11</td>\n",
       "    </tr>\n",
       "    <tr>\n",
       "      <th>3</th>\n",
       "      <td>4</td>\n",
       "      <td>736</td>\n",
       "    </tr>\n",
       "    <tr>\n",
       "      <th>4</th>\n",
       "      <td>5</td>\n",
       "      <td>72</td>\n",
       "    </tr>\n",
       "  </tbody>\n",
       "</table>\n",
       "</div>"
      ],
      "text/plain": [
       "   userId  n_ratings\n",
       "0       1         16\n",
       "1       2         15\n",
       "2       3         11\n",
       "3       4        736\n",
       "4       5         72"
      ]
     },
     "execution_count": 5,
     "metadata": {},
     "output_type": "execute_result"
    }
   ],
   "source": [
    "user_freq = ratings[['userId', 'movieId']].groupby('userId').count().reset_index()\n",
    "user_freq.columns = ['userId', 'n_ratings']\n",
    "user_freq.head()"
   ]
  },
  {
   "cell_type": "markdown",
   "id": "c89f5c5c",
   "metadata": {},
   "source": [
    "### 1. Tworzenie modelu"
   ]
  },
  {
   "cell_type": "code",
   "execution_count": 73,
   "id": "7ef0332a",
   "metadata": {},
   "outputs": [],
   "source": [
    "# lista ze srednimi z ocen filmow\n",
    "mean_rating = ratings.groupby('movieId')[['rating']].mean()\n",
    "\n",
    "lowest_rated = mean_rating['rating'].idxmin()\n",
    "movies.loc[movies['movieId'] == lowest_rated]\n",
    "\n",
    "highest_rated = mean_rating['rating'].idxmax()\n",
    "movies.loc[movies['movieId'] == highest_rated]\n",
    "\n",
    "ratings[ratings['movieId']==highest_rated]\n",
    "ratings[ratings['movieId']==lowest_rated]\n",
    "\n",
    "movie_stats = ratings.groupby('movieId')[['rating']].agg(['count', 'mean'])\n",
    "movie_stats.columns = movie_stats.columns.droplevel()"
   ]
  },
  {
   "cell_type": "code",
   "execution_count": 74,
   "id": "0d77fb1a",
   "metadata": {},
   "outputs": [],
   "source": [
    "from scipy.sparse import csr_matrix\n",
    "\n",
    "def create_matrix(df):\n",
    "      \n",
    "    N = len(df['userId'].unique())\n",
    "    M = len(df['movieId'].unique())\n",
    "      \n",
    "    # Map Ids to indices\n",
    "    # dict( pair: id, list )\n",
    "    user_mapper = dict( zip( np.unique(df[\"userId\"]), list(range(N)) ) )    # N - liczba uzytkownikow\n",
    "    movie_mapper = dict( zip( np.unique(df[\"movieId\"]), list(range(M)) ) )  # M - liczba filmow\n",
    "\n",
    "    # Map indices to IDs\n",
    "    # to co wyzej, tylko pary na odwrot\n",
    "    user_inv_mapper = dict( zip( list(range(N)), np.unique(df[\"userId\"]) ) )\n",
    "    movie_inv_mapper = dict(zip(list(range(M)), np.unique(df[\"movieId\"])))\n",
    "      \n",
    "    user_index = [user_mapper[i] for i in df['userId']]\n",
    "    movie_index = [movie_mapper[i] for i in df['movieId']]\n",
    "\n",
    "#     X = csr_matrix((df[\"rating\"], (movie_index, user_index)), shape=(M, N))\n",
    "    X = csr_matrix((df[\"rating\"], (user_index, movie_index)), shape=(N, M))#, dtype=np.float32)\n",
    "\n",
    "    return X, user_mapper, movie_mapper, user_inv_mapper, movie_inv_mapper"
   ]
  },
  {
   "cell_type": "code",
   "execution_count": 75,
   "id": "27fb6466",
   "metadata": {},
   "outputs": [],
   "source": [
    "X, user_mapper, movie_mapper, user_inv_mapper, movie_inv_mapper = create_matrix(ratings)"
   ]
  },
  {
   "cell_type": "markdown",
   "id": "1f2b0e8e",
   "metadata": {},
   "source": [
    "#### Funkcja zwracająca podobnych użytkowników"
   ]
  },
  {
   "cell_type": "code",
   "execution_count": 76,
   "id": "5c2eb2ee",
   "metadata": {},
   "outputs": [],
   "source": [
    "def find_similar_users(user_id, X, k, metric='cosine', show_distance=False):\n",
    "    neighbour_ids = []\n",
    "      \n",
    "    user_ind = user_mapper[user_id]\n",
    "    user_vec = X[user_ind]\n",
    "    k+=1\n",
    "    kNN = NearestNeighbors(n_neighbors=k, algorithm=\"brute\", metric=metric)\n",
    "    kNN.fit(X)\n",
    "    user_vec = user_vec.reshape(1,-1)\n",
    "    neighbour = kNN.kneighbors(user_vec, return_distance=show_distance)\n",
    "    for i in range(0,k):\n",
    "        n = neighbour.item(i)\n",
    "        neighbour_ids.append(user_inv_mapper[n])\n",
    "    neighbour_ids.pop(0)\n",
    "    return neighbour_ids"
   ]
  },
  {
   "cell_type": "code",
   "execution_count": 10,
   "id": "00af9bc3",
   "metadata": {},
   "outputs": [
    {
     "name": "stdout",
     "output_type": "stream",
     "text": [
      "Your movie preferences are similar to users:\n",
      "\n",
      "69380\n",
      "24743\n",
      "279985\n",
      "47864\n",
      "245536\n",
      "89732\n",
      "269173\n",
      "49501\n",
      "264168\n",
      "70866\n"
     ]
    }
   ],
   "source": [
    "user_id = 1\n",
    "similar_ids = find_similar_users(user_id, X, k=10)\n",
    "print(\"Your movie preferences are similar to users:\\n\")\n",
    "for i in similar_ids:\n",
    "    print(i)"
   ]
  },
  {
   "cell_type": "markdown",
   "id": "9578a879",
   "metadata": {},
   "source": [
    "Szybka weryfikacja:"
   ]
  },
  {
   "cell_type": "code",
   "execution_count": 11,
   "id": "e530dc96",
   "metadata": {},
   "outputs": [
    {
     "data": {
      "text/html": [
       "<div>\n",
       "<style scoped>\n",
       "    .dataframe tbody tr th:only-of-type {\n",
       "        vertical-align: middle;\n",
       "    }\n",
       "\n",
       "    .dataframe tbody tr th {\n",
       "        vertical-align: top;\n",
       "    }\n",
       "\n",
       "    .dataframe thead th {\n",
       "        text-align: right;\n",
       "    }\n",
       "</style>\n",
       "<table border=\"1\" class=\"dataframe\">\n",
       "  <thead>\n",
       "    <tr style=\"text-align: right;\">\n",
       "      <th></th>\n",
       "      <th>rating</th>\n",
       "    </tr>\n",
       "    <tr>\n",
       "      <th>movieId</th>\n",
       "      <th></th>\n",
       "    </tr>\n",
       "  </thead>\n",
       "  <tbody>\n",
       "    <tr>\n",
       "      <th>307</th>\n",
       "      <td>3.5</td>\n",
       "    </tr>\n",
       "    <tr>\n",
       "      <th>481</th>\n",
       "      <td>3.5</td>\n",
       "    </tr>\n",
       "    <tr>\n",
       "      <th>1091</th>\n",
       "      <td>1.5</td>\n",
       "    </tr>\n",
       "    <tr>\n",
       "      <th>1257</th>\n",
       "      <td>4.5</td>\n",
       "    </tr>\n",
       "    <tr>\n",
       "      <th>1449</th>\n",
       "      <td>4.5</td>\n",
       "    </tr>\n",
       "    <tr>\n",
       "      <th>1590</th>\n",
       "      <td>2.5</td>\n",
       "    </tr>\n",
       "    <tr>\n",
       "      <th>1591</th>\n",
       "      <td>1.5</td>\n",
       "    </tr>\n",
       "    <tr>\n",
       "      <th>2134</th>\n",
       "      <td>4.5</td>\n",
       "    </tr>\n",
       "    <tr>\n",
       "      <th>2478</th>\n",
       "      <td>4.0</td>\n",
       "    </tr>\n",
       "    <tr>\n",
       "      <th>2840</th>\n",
       "      <td>3.0</td>\n",
       "    </tr>\n",
       "    <tr>\n",
       "      <th>2986</th>\n",
       "      <td>2.5</td>\n",
       "    </tr>\n",
       "    <tr>\n",
       "      <th>3020</th>\n",
       "      <td>4.0</td>\n",
       "    </tr>\n",
       "    <tr>\n",
       "      <th>3424</th>\n",
       "      <td>4.5</td>\n",
       "    </tr>\n",
       "    <tr>\n",
       "      <th>3698</th>\n",
       "      <td>3.5</td>\n",
       "    </tr>\n",
       "    <tr>\n",
       "      <th>3826</th>\n",
       "      <td>2.0</td>\n",
       "    </tr>\n",
       "    <tr>\n",
       "      <th>3893</th>\n",
       "      <td>3.5</td>\n",
       "    </tr>\n",
       "  </tbody>\n",
       "</table>\n",
       "</div>"
      ],
      "text/plain": [
       "         rating\n",
       "movieId        \n",
       "307         3.5\n",
       "481         3.5\n",
       "1091        1.5\n",
       "1257        4.5\n",
       "1449        4.5\n",
       "1590        2.5\n",
       "1591        1.5\n",
       "2134        4.5\n",
       "2478        4.0\n",
       "2840        3.0\n",
       "2986        2.5\n",
       "3020        4.0\n",
       "3424        4.5\n",
       "3698        3.5\n",
       "3826        2.0\n",
       "3893        3.5"
      ]
     },
     "execution_count": 11,
     "metadata": {},
     "output_type": "execute_result"
    }
   ],
   "source": [
    "rates_1 = ratings[ratings[\"userId\"] == 1]\n",
    "rates_1 = rates_1.drop(['timestamp', 'userId'], axis=1)\n",
    "rates_1 = rates_1.set_index('movieId')\n",
    "rates_1"
   ]
  },
  {
   "cell_type": "code",
   "execution_count": 12,
   "id": "5d4ae8a4",
   "metadata": {},
   "outputs": [
    {
     "data": {
      "text/html": [
       "<div>\n",
       "<style scoped>\n",
       "    .dataframe tbody tr th:only-of-type {\n",
       "        vertical-align: middle;\n",
       "    }\n",
       "\n",
       "    .dataframe tbody tr th {\n",
       "        vertical-align: top;\n",
       "    }\n",
       "\n",
       "    .dataframe thead th {\n",
       "        text-align: right;\n",
       "    }\n",
       "</style>\n",
       "<table border=\"1\" class=\"dataframe\">\n",
       "  <thead>\n",
       "    <tr style=\"text-align: right;\">\n",
       "      <th></th>\n",
       "      <th>rating</th>\n",
       "    </tr>\n",
       "    <tr>\n",
       "      <th>movieId</th>\n",
       "      <th></th>\n",
       "    </tr>\n",
       "  </thead>\n",
       "  <tbody>\n",
       "    <tr>\n",
       "      <th>88</th>\n",
       "      <td>3.0</td>\n",
       "    </tr>\n",
       "    <tr>\n",
       "      <th>481</th>\n",
       "      <td>3.5</td>\n",
       "    </tr>\n",
       "    <tr>\n",
       "      <th>637</th>\n",
       "      <td>0.5</td>\n",
       "    </tr>\n",
       "    <tr>\n",
       "      <th>1100</th>\n",
       "      <td>4.5</td>\n",
       "    </tr>\n",
       "    <tr>\n",
       "      <th>1347</th>\n",
       "      <td>2.0</td>\n",
       "    </tr>\n",
       "    <tr>\n",
       "      <th>1350</th>\n",
       "      <td>4.0</td>\n",
       "    </tr>\n",
       "    <tr>\n",
       "      <th>1911</th>\n",
       "      <td>2.0</td>\n",
       "    </tr>\n",
       "    <tr>\n",
       "      <th>2109</th>\n",
       "      <td>4.0</td>\n",
       "    </tr>\n",
       "    <tr>\n",
       "      <th>2126</th>\n",
       "      <td>2.0</td>\n",
       "    </tr>\n",
       "    <tr>\n",
       "      <th>2471</th>\n",
       "      <td>3.5</td>\n",
       "    </tr>\n",
       "    <tr>\n",
       "      <th>2478</th>\n",
       "      <td>4.0</td>\n",
       "    </tr>\n",
       "    <tr>\n",
       "      <th>2722</th>\n",
       "      <td>0.5</td>\n",
       "    </tr>\n",
       "    <tr>\n",
       "      <th>3020</th>\n",
       "      <td>3.5</td>\n",
       "    </tr>\n",
       "    <tr>\n",
       "      <th>3105</th>\n",
       "      <td>2.5</td>\n",
       "    </tr>\n",
       "    <tr>\n",
       "      <th>3424</th>\n",
       "      <td>3.0</td>\n",
       "    </tr>\n",
       "    <tr>\n",
       "      <th>3698</th>\n",
       "      <td>5.0</td>\n",
       "    </tr>\n",
       "    <tr>\n",
       "      <th>5015</th>\n",
       "      <td>3.5</td>\n",
       "    </tr>\n",
       "  </tbody>\n",
       "</table>\n",
       "</div>"
      ],
      "text/plain": [
       "         rating\n",
       "movieId        \n",
       "88          3.0\n",
       "481         3.5\n",
       "637         0.5\n",
       "1100        4.5\n",
       "1347        2.0\n",
       "1350        4.0\n",
       "1911        2.0\n",
       "2109        4.0\n",
       "2126        2.0\n",
       "2471        3.5\n",
       "2478        4.0\n",
       "2722        0.5\n",
       "3020        3.5\n",
       "3105        2.5\n",
       "3424        3.0\n",
       "3698        5.0\n",
       "5015        3.5"
      ]
     },
     "execution_count": 12,
     "metadata": {},
     "output_type": "execute_result"
    }
   ],
   "source": [
    "rates_69380 = ratings[ratings[\"userId\"] == 69380]\n",
    "rates_69380 = rates_69380.drop(['timestamp', 'userId'], axis=1)\n",
    "rates_69380 = rates_69380.set_index('movieId')\n",
    "rates_69380"
   ]
  },
  {
   "cell_type": "code",
   "execution_count": 13,
   "id": "98121823",
   "metadata": {},
   "outputs": [
    {
     "data": {
      "text/html": [
       "<div>\n",
       "<style scoped>\n",
       "    .dataframe tbody tr th:only-of-type {\n",
       "        vertical-align: middle;\n",
       "    }\n",
       "\n",
       "    .dataframe tbody tr th {\n",
       "        vertical-align: top;\n",
       "    }\n",
       "\n",
       "    .dataframe thead th {\n",
       "        text-align: right;\n",
       "    }\n",
       "</style>\n",
       "<table border=\"1\" class=\"dataframe\">\n",
       "  <thead>\n",
       "    <tr style=\"text-align: right;\">\n",
       "      <th></th>\n",
       "      <th>rating_1</th>\n",
       "      <th>rating_69380</th>\n",
       "    </tr>\n",
       "    <tr>\n",
       "      <th>movieId</th>\n",
       "      <th></th>\n",
       "      <th></th>\n",
       "    </tr>\n",
       "  </thead>\n",
       "  <tbody>\n",
       "    <tr>\n",
       "      <th>481</th>\n",
       "      <td>3.5</td>\n",
       "      <td>3.5</td>\n",
       "    </tr>\n",
       "    <tr>\n",
       "      <th>2478</th>\n",
       "      <td>4.0</td>\n",
       "      <td>4.0</td>\n",
       "    </tr>\n",
       "    <tr>\n",
       "      <th>3020</th>\n",
       "      <td>4.0</td>\n",
       "      <td>3.5</td>\n",
       "    </tr>\n",
       "    <tr>\n",
       "      <th>3424</th>\n",
       "      <td>4.5</td>\n",
       "      <td>3.0</td>\n",
       "    </tr>\n",
       "    <tr>\n",
       "      <th>3698</th>\n",
       "      <td>3.5</td>\n",
       "      <td>5.0</td>\n",
       "    </tr>\n",
       "  </tbody>\n",
       "</table>\n",
       "</div>"
      ],
      "text/plain": [
       "         rating_1  rating_69380\n",
       "movieId                        \n",
       "481           3.5           3.5\n",
       "2478          4.0           4.0\n",
       "3020          4.0           3.5\n",
       "3424          4.5           3.0\n",
       "3698          3.5           5.0"
      ]
     },
     "execution_count": 13,
     "metadata": {},
     "output_type": "execute_result"
    }
   ],
   "source": [
    "rates_1.join(rates_69380, lsuffix='_1', rsuffix='_69380', on='movieId', how='inner')"
   ]
  },
  {
   "cell_type": "markdown",
   "id": "0cbb3e16",
   "metadata": {},
   "source": [
    "Wygląda ok :)"
   ]
  },
  {
   "cell_type": "markdown",
   "id": "a9eb4987",
   "metadata": {},
   "source": [
    "#### Funkcja zwracająca rekomendacje fimów"
   ]
  },
  {
   "cell_type": "code",
   "execution_count": 77,
   "id": "e883773f",
   "metadata": {},
   "outputs": [],
   "source": [
    "movie_titles = dict(zip(movies['movieId'], movies['title']))\n",
    "\n",
    "def recommend_movies(user_id, num_users=10, rating=5):\n",
    "    \"\"\"\n",
    "    user_id - id of the user\n",
    "    num_users - number of similar users\n",
    "    rating - min. rating of the movies\n",
    "    \"\"\"\n",
    "    \n",
    "    X, user_mapper, movie_mapper, user_inv_mapper, movie_inv_mapper = create_matrix(ratings)\n",
    "    similar_ids = find_similar_users(user_id, X, k=num_users)\n",
    "#     print(similar_ids)\n",
    "    \n",
    "    # oceny filmow, srednie\n",
    "    rates = pd.concat([pd.DataFrame(\n",
    "        ratings[ratings['userId'] == i].drop(['timestamp', 'userId'], axis=1),\n",
    "        columns=['movieId', 'rating']) for i in similar_ids ])\n",
    "    rates = rates.groupby(['movieId'], as_index=False).mean().sort_values(by=['rating'], ascending=False)             \n",
    "#     print(rates)\n",
    "    \n",
    "    # filmy ktore usuniemy\n",
    "    remove = ratings[ratings['userId'] == user_id].movieId\n",
    "#     print(remove)\n",
    "    \n",
    "    result = rates[rates['rating'] >= rating]\n",
    "    result = result[~result['movieId'].isin(remove)]\n",
    "    result = [(mid,movie_titles[mid]) for mid in result.movieId]\n",
    "    result = sorted(result, key=lambda tup: tup[0])\n",
    "#     print(*result, sep='\\n')\n",
    "    return result\n"
   ]
  },
  {
   "cell_type": "markdown",
   "id": "b7a819fb",
   "metadata": {},
   "source": [
    "#### Testowanie"
   ]
  },
  {
   "cell_type": "code",
   "execution_count": 15,
   "id": "0123ea59",
   "metadata": {},
   "outputs": [
    {
     "name": "stdout",
     "output_type": "stream",
     "text": [
      "User 1, there are 9 recommendations for you.\n",
      "You might like movies:\n",
      "(60, 'Indian in the Cupboard, The')\n",
      "(65, 'Bio-Dome')\n",
      "(318, 'Shawshank Redemption, The')\n",
      "(1077, 'Sleeper')\n",
      "(1476, 'Private Parts')\n",
      "(1945, 'On the Waterfront')\n",
      "(2329, 'American History X')\n",
      "(37240, 'Why We Fight')\n",
      "(99114, 'Django Unchained')\n"
     ]
    }
   ],
   "source": [
    "user_id = 1\n",
    "recommendations = recommend_movies(user_id)\n",
    "print(f\"User {user_id}, there are {len(recommendations)} recommendations for you.\")\n",
    "print(f\"You might like movies:\")\n",
    "for movie in recommendations:\n",
    "    print(movie)"
   ]
  },
  {
   "cell_type": "markdown",
   "id": "3087aa30",
   "metadata": {},
   "source": [
    "#### Badanie działania hiperparametrów"
   ]
  },
  {
   "cell_type": "code",
   "execution_count": 16,
   "id": "e6a6914a",
   "metadata": {
    "scrolled": true
   },
   "outputs": [
    {
     "name": "stdout",
     "output_type": "stream",
     "text": [
      "User 10, there are 51 recommendations for you.\n",
      "You might like movies:\n",
      "(123, 'Chungking Express (Chung Hing sam lam)')\n",
      "(154, 'Beauty of the Day (Belle de jour)')\n",
      "(307, 'Three Colors: Blue (Trois couleurs: Bleu)')\n",
      "(308, 'Three Colors: White (Trzy kolory: Bialy)')\n",
      "(441, 'Dazed and Confused')\n",
      "(556, 'War Room, The')\n",
      "(602, 'Great Day in Harlem, A')\n",
      "(949, 'East of Eden')\n",
      "(1059, \"William Shakespeare's Romeo + Juliet\")\n",
      "(1147, 'When We Were Kings')\n",
      "(1178, 'Paths of Glory')\n",
      "(1185, 'My Left Foot')\n",
      "(1203, '12 Angry Men')\n",
      "(1209, \"Once Upon a Time in the West (C'era una volta il West)\")\n",
      "(1211, 'Wings of Desire (Himmel über Berlin, Der)')\n",
      "(1303, 'Man Who Would Be King, The')\n",
      "(1394, 'Raising Arizona')\n",
      "(1411, 'Hamlet')\n",
      "(1615, 'Edge, The')\n",
      "(1633, \"Ulee's Gold\")\n",
      "(1719, 'Sweet Hereafter, The')\n",
      "(1734, 'My Life in Pink (Ma vie en rose)')\n",
      "(1914, 'Smoke Signals')\n",
      "(1933, 'Life of Emile Zola, The')\n",
      "(1949, 'Man for All Seasons, A')\n",
      "(2066, 'Out of the Past')\n",
      "(2067, 'Doctor Zhivago')\n",
      "(2068, 'Fanny and Alexander (Fanny och Alexander)')\n",
      "(2115, 'Indiana Jones and the Temple of Doom')\n",
      "(2117, '1984 (Nineteen Eighty-Four)')\n",
      "(2208, 'Lady Vanishes, The')\n",
      "(2528, \"Logan's Run\")\n",
      "(2682, 'Limbo')\n",
      "(2691, \"Legend of 1900, The (a.k.a. The Legend of the Pianist on the Ocean) (Leggenda del pianista sull'oceano)\")\n",
      "(2726, 'Killing, The')\n",
      "(2949, 'Dr. No')\n",
      "(2952, 'Sydney (Hard Eight)')\n",
      "(3006, 'Insider, The')\n",
      "(3019, 'Drugstore Cowboy')\n",
      "(3030, 'Yojimbo')\n",
      "(3091, 'Kagemusha')\n",
      "(3100, 'River Runs Through It, A')\n",
      "(3364, 'Asphalt Jungle, The')\n",
      "(3424, 'Do the Right Thing')\n",
      "(3435, 'Double Indemnity')\n",
      "(3462, 'Modern Times')\n",
      "(3476, \"Jacob's Ladder\")\n",
      "(3730, 'Conversation, The')\n",
      "(3801, 'Anatomy of a Murder')\n",
      "(4034, 'Traffic')\n",
      "(5914, 'Vernon, Florida')\n"
     ]
    }
   ],
   "source": [
    "user_id = 10\n",
    "recommendations = recommend_movies(user_id)\n",
    "print(f\"User {user_id}, there are {len(recommendations)} recommendations for you.\")\n",
    "print(f\"You might like movies:\")\n",
    "for movie in recommendations:\n",
    "    print(movie)"
   ]
  },
  {
   "cell_type": "code",
   "execution_count": 17,
   "id": "9bac0df9",
   "metadata": {
    "scrolled": true
   },
   "outputs": [
    {
     "name": "stdout",
     "output_type": "stream",
     "text": [
      "User 10, there are 40 recommendations for you.\n",
      "You might like movies:\n",
      "(441, 'Dazed and Confused')\n",
      "(556, 'War Room, The')\n",
      "(602, 'Great Day in Harlem, A')\n",
      "(861, 'Supercop (Police Story 3: Supercop) (Jing cha gu shi III: Chao ji jing cha)')\n",
      "(929, 'Foreign Correspondent')\n",
      "(947, 'My Man Godfrey')\n",
      "(1059, \"William Shakespeare's Romeo + Juliet\")\n",
      "(1178, 'Paths of Glory')\n",
      "(1411, 'Hamlet')\n",
      "(1615, 'Edge, The')\n",
      "(1633, \"Ulee's Gold\")\n",
      "(1719, 'Sweet Hereafter, The')\n",
      "(1734, 'My Life in Pink (Ma vie en rose)')\n",
      "(1933, 'Life of Emile Zola, The')\n",
      "(2066, 'Out of the Past')\n",
      "(2067, 'Doctor Zhivago')\n",
      "(2115, 'Indiana Jones and the Temple of Doom')\n",
      "(2239, \"Swept Away (Travolti da un insolito destino nell'azzurro mare d'Agosto)\")\n",
      "(2285, 'If....')\n",
      "(2682, 'Limbo')\n",
      "(2691, \"Legend of 1900, The (a.k.a. The Legend of the Pianist on the Ocean) (Leggenda del pianista sull'oceano)\")\n",
      "(2693, 'Trekkies')\n",
      "(2731, '400 Blows, The (Les quatre cents coups)')\n",
      "(2867, 'Fright Night')\n",
      "(2927, 'Brief Encounter')\n",
      "(2952, 'Sydney (Hard Eight)')\n",
      "(3006, 'Insider, The')\n",
      "(3019, 'Drugstore Cowboy')\n",
      "(3030, 'Yojimbo')\n",
      "(3091, 'Kagemusha')\n",
      "(3100, 'River Runs Through It, A')\n",
      "(3364, 'Asphalt Jungle, The')\n",
      "(3424, 'Do the Right Thing')\n",
      "(3435, 'Double Indemnity')\n",
      "(3462, 'Modern Times')\n",
      "(3476, \"Jacob's Ladder\")\n",
      "(3730, 'Conversation, The')\n",
      "(3801, 'Anatomy of a Murder')\n",
      "(4034, 'Traffic')\n",
      "(5914, 'Vernon, Florida')\n"
     ]
    }
   ],
   "source": [
    "user_id = 10\n",
    "recommendations = recommend_movies(user_id, 20, 5)\n",
    "print(f\"User {user_id}, there are {len(recommendations)} recommendations for you.\")\n",
    "print(f\"You might like movies:\")\n",
    "for movie in recommendations:\n",
    "    print(movie)"
   ]
  },
  {
   "cell_type": "code",
   "execution_count": 18,
   "id": "70c98110",
   "metadata": {
    "scrolled": true
   },
   "outputs": [
    {
     "name": "stdout",
     "output_type": "stream",
     "text": [
      "User 10, there are 66 recommendations for you.\n",
      "You might like movies:\n",
      "(83, 'Once Upon a Time... When We Were Colored')\n",
      "(127, 'Silences of the Palace, The (Saimt el Qusur)')\n",
      "(449, 'Fear of a Black Hat')\n",
      "(456, 'Fresh')\n",
      "(961, 'Little Lord Fauntleroy')\n",
      "(987, 'Bliss')\n",
      "(997, 'Caught')\n",
      "(1151, 'Lesson Faust')\n",
      "(1533, 'Promise, The (La promesse)')\n",
      "(1572, 'Contempt (Mépris, Le)')\n",
      "(1615, 'Edge, The')\n",
      "(1726, 'Postman, The')\n",
      "(1809, 'Fireworks (Hana-bi)')\n",
      "(1814, 'Price Above Rubies, A')\n",
      "(1901, 'Dear Jesse')\n",
      "(1933, 'Life of Emile Zola, The')\n",
      "(1935, 'How Green Was My Valley')\n",
      "(1991, \"Child's Play\")\n",
      "(2041, 'Condorman')\n",
      "(2066, 'Out of the Past')\n",
      "(2106, 'Swing Kids')\n",
      "(2204, 'Saboteur')\n",
      "(2261, 'One Crazy Summer')\n",
      "(2346, 'Stepford Wives, The')\n",
      "(2351, 'Nights of Cabiria (Notti di Cabiria, Le)')\n",
      "(2356, 'Celebrity')\n",
      "(2587, 'Life')\n",
      "(2691, \"Legend of 1900, The (a.k.a. The Legend of the Pianist on the Ocean) (Leggenda del pianista sull'oceano)\")\n",
      "(2736, 'Brighton Beach Memoirs')\n",
      "(2843, 'Black Cat, White Cat (Crna macka, beli macor)')\n",
      "(2891, 'Happy, Texas')\n",
      "(2938, 'Man Facing Southeast')\n",
      "(2943, 'Indochine')\n",
      "(3007, 'American Movie')\n",
      "(3047, 'Experience Preferred... But Not Essential')\n",
      "(3069, 'Effect of Gamma Rays on Man-in-the-Moon Marigolds, The')\n",
      "(3163, 'Topsy-Turvy')\n",
      "(3289, 'Not One Less (Yi ge dou bu neng shao)')\n",
      "(3304, 'Blue Collar')\n",
      "(3340, 'Bride of the Monster')\n",
      "(3364, 'Asphalt Jungle, The')\n",
      "(3425, \"Mo' Better Blues\")\n",
      "(3548, 'Auntie Mame')\n",
      "(3556, 'Virgin Suicides, The')\n",
      "(3618, 'Small Time Crooks')\n",
      "(3626, '8 ½ Women (a.k.a. 8 1/2 Women) (a.k.a. Eight and a Half Women)')\n",
      "(3629, 'Gold Rush, The')\n",
      "(3749, 'Time Regained (Temps retrouvé, Le)')\n",
      "(3858, 'Cecil B. DeMented')\n",
      "(3865, 'Original Kings of Comedy, The')\n",
      "(4029, 'State and Main')\n",
      "(4040, \"Don't Tell Mom the Babysitter's Dead\")\n",
      "(4113, 'Glass Menagerie, The')\n",
      "(4326, 'Mississippi Burning')\n",
      "(4967, \"No Man's Land\")\n",
      "(5147, 'Wild Strawberries (Smultronstället)')\n",
      "(5464, 'Road to Perdition')\n",
      "(5470, 'The Importance of Being Earnest')\n",
      "(5914, 'Vernon, Florida')\n",
      "(6867, 'Station Agent, The')\n",
      "(6918, 'Unvanquished, The (Aparajito)')\n",
      "(6993, 'Hannah and Her Sisters')\n",
      "(7013, 'Night of the Hunter, The')\n",
      "(7286, 'Simple Men')\n",
      "(7941, 'Smiles of a Summer Night (Sommarnattens leende)')\n",
      "(8228, 'Maltese Falcon, The (a.k.a. Dangerous Female)')\n"
     ]
    }
   ],
   "source": [
    "user_id = 10\n",
    "recommendations = recommend_movies(user_id, 100, 5)\n",
    "print(f\"User {user_id}, there are {len(recommendations)} recommendations for you.\")\n",
    "print(f\"You might like movies:\")\n",
    "for movie in recommendations:\n",
    "    print(movie)"
   ]
  },
  {
   "cell_type": "markdown",
   "id": "45792e50",
   "metadata": {},
   "source": [
    "### 2. Walidacja"
   ]
  },
  {
   "cell_type": "code",
   "execution_count": 78,
   "id": "a8fb912b",
   "metadata": {},
   "outputs": [],
   "source": [
    "movie_titles = dict(zip(movies['movieId'], movies['title']))\n",
    "\n",
    "def recommend_movies_validation(user_id, movie_id, num_users=10, rating=5):\n",
    "    \"\"\"\n",
    "    user_id - id of the user\n",
    "    movie_id - id of the removed movie\n",
    "    num_users - number of similar users\n",
    "    rating - min. rating of the movies\n",
    "    \"\"\"\n",
    "    \n",
    "    # uzytkownicy ktorzy obejrzeli dany film\n",
    "    users = ratings[ratings['movieId']==movie_id].userId\n",
    "    \n",
    "    # ratings tylko z powyzszymi uzytkownikami oraz z usunietym danym filmem\n",
    "    ratings2 = ratings[ratings['userId'].isin(users)]\n",
    "    ratings2 = ratings2[(ratings2['movieId']!=movie_id) | (ratings2['userId']!=user_id)]\n",
    "    \n",
    "    X, user_mapper, movie_mapper, user_inv_mapper, movie_inv_mapper = create_matrix(ratings2)\n",
    "    \n",
    "    # sposrod powyzszych uzytkownikow wybieramy tych podobnych do naszego\n",
    "    similar_ids = find_similar_users(user_id, X, k=num_users)\n",
    "    \n",
    "    # srednie oceny filmow (ocenione przez uzytkowników)\n",
    "    rates = pd.concat([pd.DataFrame(\n",
    "        ratings[ratings['userId'] == i].drop(['timestamp', 'userId'], axis=1),\n",
    "        columns=['movieId', 'rating']) for i in similar_ids ])\n",
    "    rates = rates.groupby(['movieId'], as_index=False).mean().sort_values(by=['rating'], ascending=False)             \n",
    "\n",
    "    # filmy ktore uzytkownik juz widzial\n",
    "#     remove = ratings[ratings['userId'] == user_id].movieId\n",
    "\n",
    "    # zostawiamy filmy ktore maja ocene o min wartosci `rating`...\n",
    "    result = rates[rates['rating'] >= rating]\n",
    "    # ... oraz ktorych uzytkownik nie widzial\n",
    "#     result = result[~result['movieId'].isin(remove)]\n",
    "    # zostawiamy tylko kolumne `movieId`\n",
    "    result = [mid for mid in result.movieId]\n",
    "\n",
    "    # sprawdzamy czy sztucznie usuniety dany film pojawi sie w rekomendacjach\n",
    "    return movie_id in result"
   ]
  },
  {
   "cell_type": "code",
   "execution_count": 20,
   "id": "cca86c8e",
   "metadata": {},
   "outputs": [
    {
     "name": "stdout",
     "output_type": "stream",
     "text": [
      "      userId  movieId  rating  timestamp\n",
      "939       10        1     5.0  948885850\n",
      "940       10       32     3.0  948887531\n",
      "941       10       43     4.0  948883986\n",
      "942       10       47     4.0  948881454\n",
      "943       10       50     5.0  948882791\n",
      "...      ...      ...     ...        ...\n",
      "1055      10     3203     3.0  948883834\n",
      "1056      10     3246     3.0  948882395\n",
      "1057      10     3253     3.0  948881454\n",
      "1058      10     3260     3.0  948882230\n",
      "1059      10     3265     4.0  948882177\n",
      "\n",
      "[121 rows x 4 columns]\n"
     ]
    }
   ],
   "source": [
    "user_id = 10\n",
    "print(ratings[ratings['userId']==user_id])"
   ]
  },
  {
   "cell_type": "code",
   "execution_count": 21,
   "id": "04184b3e",
   "metadata": {},
   "outputs": [
    {
     "name": "stdout",
     "output_type": "stream",
     "text": [
      "True\n"
     ]
    }
   ],
   "source": [
    "result = recommend_movies_validation(user_id, 1, 100, 3.5)\n",
    "print(result)"
   ]
  },
  {
   "cell_type": "code",
   "execution_count": 87,
   "id": "8d3bfba5",
   "metadata": {},
   "outputs": [],
   "source": [
    "def recommendation_fit(user_id, num_sim_users=10, rating=5):\n",
    "    \n",
    "    good_movies = ratings[(ratings['userId']==user_id) & (ratings['rating']>=rating)].movieId\n",
    "#     print(good_movies)\n",
    "    bad_movies = ratings[(ratings['userId']==user_id) & (ratings['rating']<rating)].movieId\n",
    "#     print(bad_movies)\n",
    "    \n",
    "    movies_true = [recommend_movies_validation(user_id, movie_id, num_sim_users, rating) for movie_id in good_movies]  \n",
    "    movies_false = [not recommend_movies_validation(user_id, movie_id, num_sim_users, rating) for movie_id in bad_movies]  \n",
    "    \n",
    "    return movies_true, movies_false"
   ]
  },
  {
   "cell_type": "code",
   "execution_count": 22,
   "id": "505a22a7",
   "metadata": {
    "scrolled": true
   },
   "outputs": [
    {
     "name": "stdout",
     "output_type": "stream",
     "text": [
      "([True, False, True, True, True, True, False, True, True, False, True, True, True, True, True, True, True, False, False, True, False, True, True, True, True, True, True, True, True, True, True, True, True, True, True, True, True, True, False, True, True, False, False, True, True, True, True, True, True, True, True, True, False, True, True, True, True, True, True, True, True, True, True, True, True, True, True, False, True, True, False, True, True, True, True, True, True, False, False, False, False, False, True, True, True, False, True, True, True, True, False, True, False, True, True, False, True, True, False], [False, False, False, False, False, False, False, False, True, False, False, True, True, False, True, False, False, True, False, False, True, False])\n"
     ]
    }
   ],
   "source": [
    "rec_100 = recommendation_fit(10, 100, 3.5)\n",
    "print(rec_100)"
   ]
  },
  {
   "cell_type": "code",
   "execution_count": 23,
   "id": "61cca97a",
   "metadata": {},
   "outputs": [
    {
     "name": "stdout",
     "output_type": "stream",
     "text": [
      "([False, False, True, True, True, True, False, False, True, False, True, False, False, True, True, True, True, False, True, True, False, False, True, True, False, True, True, False, True, False, True, False, False, True, True, True, True, True, False, False, True, False, False, True, True, False, True, False, True, False, True, True, False, True, True, False, True, True, False, False, True, False, True, True, False, False, False, False, True, True, False, False, False, True, True, False, False, False, False, False, False, False, True, False, False, False, False, False, True, True, False, False, False, True, False, False, True, False, False], [True, True, True, False, True, False, False, False, True, True, False, True, True, True, True, False, False, False, True, True, True, True])\n"
     ]
    }
   ],
   "source": [
    "rec_20 = recommendation_fit(10, 20, 3.5)\n",
    "print(rec_20)"
   ]
  },
  {
   "cell_type": "code",
   "execution_count": 24,
   "id": "7b1e340c",
   "metadata": {},
   "outputs": [
    {
     "name": "stdout",
     "output_type": "stream",
     "text": [
      "([False, False, False, False, False, False, False, False, False, False, False, False, False, False, False, False, False, False, False, False, False, False, False, False, False, False, False, False, False, False, False, False, False, False, False, False, False, False, False, False, False, False, False, False, False, False, False, False, False, True], [True, True, True, True, True, True, True, True, True, True, True, True, True, True, True, True, True, True, True, True, True, True, True, True, True, True, True, True, True, True, True, True, True, True, True, True, True, True, True, True, True, True, True, True, True, True, True, True, False, True, True, True, True, True, True, True, True, True, False, True, True, False, True, True, True, True, True, True, True, True, True])\n"
     ]
    }
   ],
   "source": [
    "rec_100_5 = recommendation_fit(10, 100, 5)\n",
    "print(rec_100_5)"
   ]
  },
  {
   "cell_type": "code",
   "execution_count": 80,
   "id": "37b241a7",
   "metadata": {},
   "outputs": [],
   "source": [
    "def make_pred_real(data_touple):\n",
    "    (data_true, data_false) = data_touple\n",
    "    y = [1 for i in range(len(data_true))] + [0 for i in range(len(data_false))]\n",
    "    y_pred = data_true + data_false\n",
    "    \n",
    "    return (y, y_pred)"
   ]
  },
  {
   "cell_type": "markdown",
   "id": "166f5df5",
   "metadata": {},
   "source": [
    "#### Confusion matrix i metryki"
   ]
  },
  {
   "cell_type": "code",
   "execution_count": 81,
   "id": "0b4a36da",
   "metadata": {},
   "outputs": [],
   "source": [
    "from sklearn.metrics import confusion_matrix, ConfusionMatrixDisplay\n",
    "\n",
    "def plot_cm(y_true, y_pred):\n",
    "    cm = ConfusionMatrixDisplay(confusion_matrix(y_true, y_pred))\n",
    "    cm.plot(colorbar=False)\n",
    "    \n",
    "    plt.show()"
   ]
  },
  {
   "cell_type": "code",
   "execution_count": 82,
   "id": "5dc87c8d",
   "metadata": {},
   "outputs": [],
   "source": [
    "def lab_recall_score(y_true, y_pred):\n",
    "    cm = confusion_matrix(y_true, y_pred)\n",
    "    (tn, fn, fp, tp) = (cm[0][0], cm[1][0], cm[0][1], cm[1][1])\n",
    "    return tp/(tp+fn)\n",
    "\n",
    "def lab_precission_score(y_true, y_pred):\n",
    "    cm = confusion_matrix(y_true, y_pred)\n",
    "    (tn, fn, fp, tp) = (cm[0][0], cm[1][0], cm[0][1], cm[1][1])\n",
    "    return tp/(tp+fp)\n",
    "\n",
    "def lab_f1_score(y_true, y_pred):\n",
    "    pre = lab_precission_score(y_true, y_pred)\n",
    "    rec = lab_recall_score(y_true, y_pred)\n",
    "    return (2*pre*rec)/(pre+rec)\n"
   ]
  },
  {
   "cell_type": "code",
   "execution_count": 83,
   "id": "eeaa86b7",
   "metadata": {},
   "outputs": [
    {
     "data": {
      "image/png": "[encoded data removed]",
      "text/plain": [
       "<Figure size 432x288 with 1 Axes>"
      ]
     },
     "metadata": {
      "needs_background": "light"
     },
     "output_type": "display_data"
    },
    {
     "name": "stdout",
     "output_type": "stream",
     "text": [
      "Recall: 0.7777777777777778\n",
      "Precission: 0.927710843373494\n",
      "F1: 0.8461538461538461\n"
     ]
    }
   ],
   "source": [
    "(y_true, y_pred) = make_pred_real(rec_100)\n",
    "\n",
    "plot_cm(y_true, y_pred)\n",
    "print('Recall:', lab_recall_score(y_true, y_pred))\n",
    "print('Precission:', lab_precission_score(y_true, y_pred))\n",
    "print('F1:', lab_f1_score(y_true, y_pred))\n"
   ]
  },
  {
   "cell_type": "code",
   "execution_count": 84,
   "id": "e733cc75",
   "metadata": {},
   "outputs": [
    {
     "data": {
      "image/png": "[encoded data removed]",
      "text/plain": [
       "<Figure size 432x288 with 1 Axes>"
      ]
     },
     "metadata": {
      "needs_background": "light"
     },
     "output_type": "display_data"
    },
    {
     "name": "stdout",
     "output_type": "stream",
     "text": [
      "Recall: 0.46464646464646464\n",
      "Precission: 0.7666666666666667\n",
      "F1: 0.5786163522012578\n"
     ]
    }
   ],
   "source": [
    "(y_true, y_pred) = make_pred_real(rec_20)\n",
    "\n",
    "plot_cm(y_true, y_pred)\n",
    "print('Recall:', lab_recall_score(y_true, y_pred))\n",
    "print('Precission:', lab_precission_score(y_true, y_pred))\n",
    "print('F1:', lab_f1_score(y_true, y_pred))\n"
   ]
  },
  {
   "cell_type": "code",
   "execution_count": 85,
   "id": "01804fe2",
   "metadata": {},
   "outputs": [
    {
     "data": {
      "image/png": "[encoded data removed]",
      "text/plain": [
       "<Figure size 432x288 with 1 Axes>"
      ]
     },
     "metadata": {
      "needs_background": "light"
     },
     "output_type": "display_data"
    },
    {
     "name": "stdout",
     "output_type": "stream",
     "text": [
      "Recall: 0.02\n",
      "Precission: 0.014492753623188406\n",
      "F1: 0.01680672268907563\n"
     ]
    }
   ],
   "source": [
    "(y_true, y_pred) = make_pred_real(rec_100_5)\n",
    "\n",
    "plot_cm(y_true, y_pred)\n",
    "print('Recall:', lab_recall_score(y_true, y_pred))\n",
    "print('Precission:', lab_precission_score(y_true, y_pred))\n",
    "print('F1:', lab_f1_score(y_true, y_pred))\n"
   ]
  },
  {
   "cell_type": "markdown",
   "id": "a1d77b5b",
   "metadata": {},
   "source": [
    "#### Walidacja na kilku użytkownikach "
   ]
  },
  {
   "cell_type": "code",
   "execution_count": null,
   "id": "2eed5e42",
   "metadata": {},
   "outputs": [],
   "source": []
  },
  {
   "cell_type": "code",
   "execution_count": null,
   "id": "7a6b261c",
   "metadata": {
    "scrolled": true
   },
   "outputs": [],
   "source": [
    "rec_100_us20 = recommendation_fit(10, 100, 3.5)\n",
    "print(rec_100_us20)"
   ]
  },
  {
   "cell_type": "code",
   "execution_count": null,
   "id": "bc584d61",
   "metadata": {},
   "outputs": [],
   "source": [
    "(y_true, y_pred) = make_pred_real(rec_100_us20)\n",
    "\n",
    "plot_cm(y_true, y_pred)\n",
    "print('Recall:', lab_recall_score(y_true, y_pred))\n",
    "print('Precission:', lab_precission_score(y_true, y_pred))\n",
    "print('F1:', lab_f1_score(y_true, y_pred))\n"
   ]
  },
  {
   "cell_type": "code",
   "execution_count": 50,
   "id": "c45bb37b",
   "metadata": {},
   "outputs": [
    {
     "data": {
      "text/plain": [
       "283228"
      ]
     },
     "execution_count": 50,
     "metadata": {},
     "output_type": "execute_result"
    }
   ],
   "source": [
    "len(ratings['userId'].unique())\n",
    "# 114819\n",
    "#  45791\n",
    "# 283228"
   ]
  },
  {
   "cell_type": "code",
   "execution_count": 92,
   "id": "8e7f93a6",
   "metadata": {
    "scrolled": true
   },
   "outputs": [
    {
     "name": "stdout",
     "output_type": "stream",
     "text": [
      "[275204, 63410, 120965, 171052, 187342, 32566, 176429, 214274, 17816, 79789]\n"
     ]
    },
    {
     "ename": "IndexError",
     "evalue": "row index (275203) out of range",
     "output_type": "error",
     "traceback": [
      "\u001b[1;31m---------------------------------------------------------------------------\u001b[0m",
      "\u001b[1;31mIndexError\u001b[0m                                Traceback (most recent call last)",
      "Input \u001b[1;32mIn [92]\u001b[0m, in \u001b[0;36m<cell line: 22>\u001b[1;34m()\u001b[0m\n\u001b[0;32m     18\u001b[0m     \u001b[38;5;28;01mreturn\u001b[39;00m data_true, data_false\n\u001b[0;32m     19\u001b[0m \u001b[38;5;66;03m#     return\u001b[39;00m\n\u001b[0;32m     20\u001b[0m \n\u001b[0;32m     21\u001b[0m \u001b[38;5;66;03m# group = \u001b[39;00m\n\u001b[1;32m---> 22\u001b[0m \u001b[43mrecommendation_group_fit\u001b[49m\u001b[43m(\u001b[49m\u001b[38;5;241;43m10\u001b[39;49m\u001b[43m,\u001b[49m\u001b[43m \u001b[49m\u001b[38;5;241;43m100\u001b[39;49m\u001b[43m,\u001b[49m\u001b[43m \u001b[49m\u001b[38;5;241;43m3.5\u001b[39;49m\u001b[43m)\u001b[49m\n",
      "Input \u001b[1;32mIn [92]\u001b[0m, in \u001b[0;36mrecommendation_group_fit\u001b[1;34m(n_users, num_sim_users, rating)\u001b[0m\n\u001b[0;32m      8\u001b[0m     data_true, data_false \u001b[38;5;241m=\u001b[39m [],[]\n\u001b[0;32m     10\u001b[0m     \u001b[38;5;28;01mfor\u001b[39;00m user \u001b[38;5;129;01min\u001b[39;00m users:\n\u001b[1;32m---> 11\u001b[0m         a,b \u001b[38;5;241m=\u001b[39m \u001b[43mrecommendation_fit\u001b[49m\u001b[43m(\u001b[49m\u001b[43muser\u001b[49m\u001b[43m,\u001b[49m\u001b[43m \u001b[49m\u001b[43mnum_sim_users\u001b[49m\u001b[43m,\u001b[49m\u001b[43m \u001b[49m\u001b[43mrating\u001b[49m\u001b[43m)\u001b[49m\n\u001b[0;32m     12\u001b[0m \u001b[38;5;66;03m#         print(a,b)\u001b[39;00m\n\u001b[0;32m     13\u001b[0m \u001b[38;5;66;03m#         (a,b) = ([True, True, True, False], [True, True, False, True, False])\u001b[39;00m\n\u001b[0;32m     14\u001b[0m \u001b[38;5;66;03m#         (a,b) = rec_100\u001b[39;00m\n\u001b[0;32m     15\u001b[0m         data_true \u001b[38;5;241m+\u001b[39m\u001b[38;5;241m=\u001b[39m a\n",
      "Input \u001b[1;32mIn [87]\u001b[0m, in \u001b[0;36mrecommendation_fit\u001b[1;34m(user_id, num_sim_users, rating)\u001b[0m\n\u001b[0;32m      5\u001b[0m     bad_movies \u001b[38;5;241m=\u001b[39m ratings[(ratings[\u001b[38;5;124m'\u001b[39m\u001b[38;5;124muserId\u001b[39m\u001b[38;5;124m'\u001b[39m]\u001b[38;5;241m==\u001b[39muser_id) \u001b[38;5;241m&\u001b[39m (ratings[\u001b[38;5;124m'\u001b[39m\u001b[38;5;124mrating\u001b[39m\u001b[38;5;124m'\u001b[39m]\u001b[38;5;241m<\u001b[39mrating)]\u001b[38;5;241m.\u001b[39mmovieId\n\u001b[0;32m      6\u001b[0m \u001b[38;5;66;03m#     print(bad_movies)\u001b[39;00m\n\u001b[1;32m----> 8\u001b[0m     movies_true \u001b[38;5;241m=\u001b[39m [recommend_movies_validation(user_id, movie_id, num_sim_users, rating) \u001b[38;5;28;01mfor\u001b[39;00m movie_id \u001b[38;5;129;01min\u001b[39;00m good_movies]  \n\u001b[0;32m      9\u001b[0m     movies_false \u001b[38;5;241m=\u001b[39m [\u001b[38;5;129;01mnot\u001b[39;00m recommend_movies_validation(user_id, movie_id, num_sim_users, rating) \u001b[38;5;28;01mfor\u001b[39;00m movie_id \u001b[38;5;129;01min\u001b[39;00m bad_movies]  \n\u001b[0;32m     11\u001b[0m     \u001b[38;5;28;01mreturn\u001b[39;00m movies_true, movies_false\n",
      "Input \u001b[1;32mIn [87]\u001b[0m, in \u001b[0;36m<listcomp>\u001b[1;34m(.0)\u001b[0m\n\u001b[0;32m      5\u001b[0m     bad_movies \u001b[38;5;241m=\u001b[39m ratings[(ratings[\u001b[38;5;124m'\u001b[39m\u001b[38;5;124muserId\u001b[39m\u001b[38;5;124m'\u001b[39m]\u001b[38;5;241m==\u001b[39muser_id) \u001b[38;5;241m&\u001b[39m (ratings[\u001b[38;5;124m'\u001b[39m\u001b[38;5;124mrating\u001b[39m\u001b[38;5;124m'\u001b[39m]\u001b[38;5;241m<\u001b[39mrating)]\u001b[38;5;241m.\u001b[39mmovieId\n\u001b[0;32m      6\u001b[0m \u001b[38;5;66;03m#     print(bad_movies)\u001b[39;00m\n\u001b[1;32m----> 8\u001b[0m     movies_true \u001b[38;5;241m=\u001b[39m [\u001b[43mrecommend_movies_validation\u001b[49m\u001b[43m(\u001b[49m\u001b[43muser_id\u001b[49m\u001b[43m,\u001b[49m\u001b[43m \u001b[49m\u001b[43mmovie_id\u001b[49m\u001b[43m,\u001b[49m\u001b[43m \u001b[49m\u001b[43mnum_sim_users\u001b[49m\u001b[43m,\u001b[49m\u001b[43m \u001b[49m\u001b[43mrating\u001b[49m\u001b[43m)\u001b[49m \u001b[38;5;28;01mfor\u001b[39;00m movie_id \u001b[38;5;129;01min\u001b[39;00m good_movies]  \n\u001b[0;32m      9\u001b[0m     movies_false \u001b[38;5;241m=\u001b[39m [\u001b[38;5;129;01mnot\u001b[39;00m recommend_movies_validation(user_id, movie_id, num_sim_users, rating) \u001b[38;5;28;01mfor\u001b[39;00m movie_id \u001b[38;5;129;01min\u001b[39;00m bad_movies]  \n\u001b[0;32m     11\u001b[0m     \u001b[38;5;28;01mreturn\u001b[39;00m movies_true, movies_false\n",
      "Input \u001b[1;32mIn [78]\u001b[0m, in \u001b[0;36mrecommend_movies_validation\u001b[1;34m(user_id, movie_id, num_users, rating)\u001b[0m\n\u001b[0;32m     18\u001b[0m X, user_mapper, movie_mapper, user_inv_mapper, movie_inv_mapper \u001b[38;5;241m=\u001b[39m create_matrix(ratings2)\n\u001b[0;32m     20\u001b[0m \u001b[38;5;66;03m# sposrod powyzszych uzytkownikow wybieramy tych podobnych do naszego\u001b[39;00m\n\u001b[1;32m---> 21\u001b[0m similar_ids \u001b[38;5;241m=\u001b[39m \u001b[43mfind_similar_users\u001b[49m\u001b[43m(\u001b[49m\u001b[43muser_id\u001b[49m\u001b[43m,\u001b[49m\u001b[43m \u001b[49m\u001b[43mX\u001b[49m\u001b[43m,\u001b[49m\u001b[43m \u001b[49m\u001b[43mk\u001b[49m\u001b[38;5;241;43m=\u001b[39;49m\u001b[43mnum_users\u001b[49m\u001b[43m)\u001b[49m\n\u001b[0;32m     23\u001b[0m \u001b[38;5;66;03m# srednie oceny filmow (ocenione przez uzytkowników)\u001b[39;00m\n\u001b[0;32m     24\u001b[0m rates \u001b[38;5;241m=\u001b[39m pd\u001b[38;5;241m.\u001b[39mconcat([pd\u001b[38;5;241m.\u001b[39mDataFrame(\n\u001b[0;32m     25\u001b[0m     ratings[ratings[\u001b[38;5;124m'\u001b[39m\u001b[38;5;124muserId\u001b[39m\u001b[38;5;124m'\u001b[39m] \u001b[38;5;241m==\u001b[39m i]\u001b[38;5;241m.\u001b[39mdrop([\u001b[38;5;124m'\u001b[39m\u001b[38;5;124mtimestamp\u001b[39m\u001b[38;5;124m'\u001b[39m, \u001b[38;5;124m'\u001b[39m\u001b[38;5;124muserId\u001b[39m\u001b[38;5;124m'\u001b[39m], axis\u001b[38;5;241m=\u001b[39m\u001b[38;5;241m1\u001b[39m),\n\u001b[0;32m     26\u001b[0m     columns\u001b[38;5;241m=\u001b[39m[\u001b[38;5;124m'\u001b[39m\u001b[38;5;124mmovieId\u001b[39m\u001b[38;5;124m'\u001b[39m, \u001b[38;5;124m'\u001b[39m\u001b[38;5;124mrating\u001b[39m\u001b[38;5;124m'\u001b[39m]) \u001b[38;5;28;01mfor\u001b[39;00m i \u001b[38;5;129;01min\u001b[39;00m similar_ids ])\n",
      "Input \u001b[1;32mIn [76]\u001b[0m, in \u001b[0;36mfind_similar_users\u001b[1;34m(user_id, X, k, metric, show_distance)\u001b[0m\n\u001b[0;32m      2\u001b[0m neighbour_ids \u001b[38;5;241m=\u001b[39m []\n\u001b[0;32m      4\u001b[0m user_ind \u001b[38;5;241m=\u001b[39m user_mapper[user_id]\n\u001b[1;32m----> 5\u001b[0m user_vec \u001b[38;5;241m=\u001b[39m \u001b[43mX\u001b[49m\u001b[43m[\u001b[49m\u001b[43muser_ind\u001b[49m\u001b[43m]\u001b[49m\n\u001b[0;32m      6\u001b[0m k\u001b[38;5;241m+\u001b[39m\u001b[38;5;241m=\u001b[39m\u001b[38;5;241m1\u001b[39m\n\u001b[0;32m      7\u001b[0m kNN \u001b[38;5;241m=\u001b[39m NearestNeighbors(n_neighbors\u001b[38;5;241m=\u001b[39mk, algorithm\u001b[38;5;241m=\u001b[39m\u001b[38;5;124m\"\u001b[39m\u001b[38;5;124mbrute\u001b[39m\u001b[38;5;124m\"\u001b[39m, metric\u001b[38;5;241m=\u001b[39mmetric)\n",
      "File \u001b[1;32m~\\anaconda3\\lib\\site-packages\\scipy\\sparse\\_index.py:33\u001b[0m, in \u001b[0;36mIndexMixin.__getitem__\u001b[1;34m(self, key)\u001b[0m\n\u001b[0;32m     32\u001b[0m \u001b[38;5;28;01mdef\u001b[39;00m \u001b[38;5;21m__getitem__\u001b[39m(\u001b[38;5;28mself\u001b[39m, key):\n\u001b[1;32m---> 33\u001b[0m     row, col \u001b[38;5;241m=\u001b[39m \u001b[38;5;28;43mself\u001b[39;49m\u001b[38;5;241;43m.\u001b[39;49m\u001b[43m_validate_indices\u001b[49m\u001b[43m(\u001b[49m\u001b[43mkey\u001b[49m\u001b[43m)\u001b[49m\n\u001b[0;32m     34\u001b[0m     \u001b[38;5;66;03m# Dispatch to specialized methods.\u001b[39;00m\n\u001b[0;32m     35\u001b[0m     \u001b[38;5;28;01mif\u001b[39;00m \u001b[38;5;28misinstance\u001b[39m(row, INT_TYPES):\n",
      "File \u001b[1;32m~\\anaconda3\\lib\\site-packages\\scipy\\sparse\\_index.py:134\u001b[0m, in \u001b[0;36mIndexMixin._validate_indices\u001b[1;34m(self, key)\u001b[0m\n\u001b[0;32m    132\u001b[0m row \u001b[38;5;241m=\u001b[39m \u001b[38;5;28mint\u001b[39m(row)\n\u001b[0;32m    133\u001b[0m \u001b[38;5;28;01mif\u001b[39;00m row \u001b[38;5;241m<\u001b[39m \u001b[38;5;241m-\u001b[39mM \u001b[38;5;129;01mor\u001b[39;00m row \u001b[38;5;241m>\u001b[39m\u001b[38;5;241m=\u001b[39m M:\n\u001b[1;32m--> 134\u001b[0m     \u001b[38;5;28;01mraise\u001b[39;00m \u001b[38;5;167;01mIndexError\u001b[39;00m(\u001b[38;5;124m'\u001b[39m\u001b[38;5;124mrow index (\u001b[39m\u001b[38;5;132;01m%d\u001b[39;00m\u001b[38;5;124m) out of range\u001b[39m\u001b[38;5;124m'\u001b[39m \u001b[38;5;241m%\u001b[39m row)\n\u001b[0;32m    135\u001b[0m \u001b[38;5;28;01mif\u001b[39;00m row \u001b[38;5;241m<\u001b[39m \u001b[38;5;241m0\u001b[39m:\n\u001b[0;32m    136\u001b[0m     row \u001b[38;5;241m+\u001b[39m\u001b[38;5;241m=\u001b[39m M\n",
      "\u001b[1;31mIndexError\u001b[0m: row index (275203) out of range"
     ]
    }
   ],
   "source": [
    "import random\n",
    "\n",
    "def recommendation_group_fit(n_users=2, num_sim_users=10, rating=5):\n",
    "#     users = random.choices(range(1,283228), k=n_users)\n",
    "    users = random.choices(ratings['userId'].unique(), k=n_users)\n",
    "    print(users)\n",
    "\n",
    "    data_true, data_false = [],[]\n",
    "\n",
    "    for user in users:\n",
    "        a,b = recommendation_fit(user, num_sim_users, rating)\n",
    "#         print(a,b)\n",
    "#         (a,b) = ([True, True, True, False], [True, True, False, True, False])\n",
    "#         (a,b) = rec_100\n",
    "        data_true += a\n",
    "        data_false += b\n",
    "        \n",
    "    return data_true, data_false\n",
    "#     return\n",
    "\n",
    "# group = \n",
    "recommendation_group_fit(10, 100, 3.5)\n",
    "# print(group)"
   ]
  },
  {
   "cell_type": "code",
   "execution_count": 91,
   "id": "de0b255a",
   "metadata": {},
   "outputs": [
    {
     "data": {
      "image/png": "[encoded data removed]",
      "text/plain": [
       "<Figure size 432x288 with 1 Axes>"
      ]
     },
     "metadata": {
      "needs_background": "light"
     },
     "output_type": "display_data"
    },
    {
     "name": "stdout",
     "output_type": "stream",
     "text": [
      "Recall: 0.7777777777777778\n",
      "Precission: 0.927710843373494\n",
      "F1: 0.8461538461538461\n"
     ]
    }
   ],
   "source": [
    "(y_true, y_pred) = make_pred_real(group)\n",
    "\n",
    "plot_cm(y_true, y_pred)\n",
    "print('Recall:', lab_recall_score(y_true, y_pred))\n",
    "print('Precission:', lab_precission_score(y_true, y_pred))\n",
    "print('F1:', lab_f1_score(y_true, y_pred))\n"
   ]
  },
  {
   "cell_type": "code",
   "execution_count": null,
   "id": "fcdf686d",
   "metadata": {},
   "outputs": [],
   "source": []
  }
 ],
 "metadata": {
  "kernelspec": {
   "display_name": "Python 3 (ipykernel)",
   "language": "python",
   "name": "python3"
  },
  "language_info": {
   "codemirror_mode": {
    "name": "ipython",
    "version": 3
   },
   "file_extension": ".py",
   "mimetype": "text/x-python",
   "name": "python",
   "nbconvert_exporter": "python",
   "pygments_lexer": "ipython3",
   "version": "3.8.8"
  }
 },
 "nbformat": 4,
 "nbformat_minor": 5
}
